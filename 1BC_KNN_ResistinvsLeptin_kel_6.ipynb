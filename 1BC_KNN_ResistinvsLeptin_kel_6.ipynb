{
  "nbformat": 4,
  "nbformat_minor": 0,
  "metadata": {
    "colab": {
      "provenance": [],
      "gpuType": "T4"
    },
    "kernelspec": {
      "name": "python3",
      "display_name": "Python 3"
    },
    "language_info": {
      "name": "python"
    }
  },
  "cells": [
    {
      "cell_type": "code",
      "execution_count": null,
      "metadata": {
        "id": "cZvtrVcPR8UW"
      },
      "outputs": [],
      "source": [
        "import numpy as np\n",
        "import pandas as pd\n",
        "import matplotlib.pyplot as plt\n"
      ]
    },
    {
      "cell_type": "code",
      "source": [
        "path = ('/content/BreastCancerCoimbra.csv')"
      ],
      "metadata": {
        "id": "34gqEBD7rjpb"
      },
      "execution_count": null,
      "outputs": []
    },
    {
      "cell_type": "code",
      "source": [
        "bc = pd.read_csv(path)"
      ],
      "metadata": {
        "id": "-GFNnOZCt-sx"
      },
      "execution_count": null,
      "outputs": []
    },
    {
      "cell_type": "code",
      "source": [
        "bc.head()"
      ],
      "metadata": {
        "colab": {
          "base_uri": "https://localhost:8080/",
          "height": 206
        },
        "id": "EOb-eN-4tHdz",
        "outputId": "5f974161-f271-468a-f266-391a47c0446d"
      },
      "execution_count": null,
      "outputs": [
        {
          "output_type": "execute_result",
          "data": {
            "text/plain": [
              "   AGE        BMI  GLUCOSE  INSULIN      HOMA   LEPTIN  ADIPONECTIN  RESISTIN  \\\n",
              "0   48  23.500000       70    2.707  0.467409   8.8071     9.702400   7.99585   \n",
              "1   83  20.690495       92    3.115  0.706897   8.8438     5.429285   4.06405   \n",
              "2   82  23.124670       91    4.498  1.009651  17.9393    22.432040   9.27715   \n",
              "3   68  21.367521       77    3.226  0.612725   9.8827     7.169560  12.76600   \n",
              "4   86  21.111111       92    3.549  0.805386   6.6994     4.819240  10.57635   \n",
              "\n",
              "     MCP.1  CLASS  \n",
              "0  417.114      1  \n",
              "1  468.786      1  \n",
              "2  554.697      1  \n",
              "3  928.220      1  \n",
              "4  773.920      1  "
            ],
            "text/html": [
              "\n",
              "  <div id=\"df-80bdfca5-76c9-4b61-8161-950e0e29277b\">\n",
              "    <div class=\"colab-df-container\">\n",
              "      <div>\n",
              "<style scoped>\n",
              "    .dataframe tbody tr th:only-of-type {\n",
              "        vertical-align: middle;\n",
              "    }\n",
              "\n",
              "    .dataframe tbody tr th {\n",
              "        vertical-align: top;\n",
              "    }\n",
              "\n",
              "    .dataframe thead th {\n",
              "        text-align: right;\n",
              "    }\n",
              "</style>\n",
              "<table border=\"1\" class=\"dataframe\">\n",
              "  <thead>\n",
              "    <tr style=\"text-align: right;\">\n",
              "      <th></th>\n",
              "      <th>AGE</th>\n",
              "      <th>BMI</th>\n",
              "      <th>GLUCOSE</th>\n",
              "      <th>INSULIN</th>\n",
              "      <th>HOMA</th>\n",
              "      <th>LEPTIN</th>\n",
              "      <th>ADIPONECTIN</th>\n",
              "      <th>RESISTIN</th>\n",
              "      <th>MCP.1</th>\n",
              "      <th>CLASS</th>\n",
              "    </tr>\n",
              "  </thead>\n",
              "  <tbody>\n",
              "    <tr>\n",
              "      <th>0</th>\n",
              "      <td>48</td>\n",
              "      <td>23.500000</td>\n",
              "      <td>70</td>\n",
              "      <td>2.707</td>\n",
              "      <td>0.467409</td>\n",
              "      <td>8.8071</td>\n",
              "      <td>9.702400</td>\n",
              "      <td>7.99585</td>\n",
              "      <td>417.114</td>\n",
              "      <td>1</td>\n",
              "    </tr>\n",
              "    <tr>\n",
              "      <th>1</th>\n",
              "      <td>83</td>\n",
              "      <td>20.690495</td>\n",
              "      <td>92</td>\n",
              "      <td>3.115</td>\n",
              "      <td>0.706897</td>\n",
              "      <td>8.8438</td>\n",
              "      <td>5.429285</td>\n",
              "      <td>4.06405</td>\n",
              "      <td>468.786</td>\n",
              "      <td>1</td>\n",
              "    </tr>\n",
              "    <tr>\n",
              "      <th>2</th>\n",
              "      <td>82</td>\n",
              "      <td>23.124670</td>\n",
              "      <td>91</td>\n",
              "      <td>4.498</td>\n",
              "      <td>1.009651</td>\n",
              "      <td>17.9393</td>\n",
              "      <td>22.432040</td>\n",
              "      <td>9.27715</td>\n",
              "      <td>554.697</td>\n",
              "      <td>1</td>\n",
              "    </tr>\n",
              "    <tr>\n",
              "      <th>3</th>\n",
              "      <td>68</td>\n",
              "      <td>21.367521</td>\n",
              "      <td>77</td>\n",
              "      <td>3.226</td>\n",
              "      <td>0.612725</td>\n",
              "      <td>9.8827</td>\n",
              "      <td>7.169560</td>\n",
              "      <td>12.76600</td>\n",
              "      <td>928.220</td>\n",
              "      <td>1</td>\n",
              "    </tr>\n",
              "    <tr>\n",
              "      <th>4</th>\n",
              "      <td>86</td>\n",
              "      <td>21.111111</td>\n",
              "      <td>92</td>\n",
              "      <td>3.549</td>\n",
              "      <td>0.805386</td>\n",
              "      <td>6.6994</td>\n",
              "      <td>4.819240</td>\n",
              "      <td>10.57635</td>\n",
              "      <td>773.920</td>\n",
              "      <td>1</td>\n",
              "    </tr>\n",
              "  </tbody>\n",
              "</table>\n",
              "</div>\n",
              "      <button class=\"colab-df-convert\" onclick=\"convertToInteractive('df-80bdfca5-76c9-4b61-8161-950e0e29277b')\"\n",
              "              title=\"Convert this dataframe to an interactive table.\"\n",
              "              style=\"display:none;\">\n",
              "        \n",
              "  <svg xmlns=\"http://www.w3.org/2000/svg\" height=\"24px\"viewBox=\"0 0 24 24\"\n",
              "       width=\"24px\">\n",
              "    <path d=\"M0 0h24v24H0V0z\" fill=\"none\"/>\n",
              "    <path d=\"M18.56 5.44l.94 2.06.94-2.06 2.06-.94-2.06-.94-.94-2.06-.94 2.06-2.06.94zm-11 1L8.5 8.5l.94-2.06 2.06-.94-2.06-.94L8.5 2.5l-.94 2.06-2.06.94zm10 10l.94 2.06.94-2.06 2.06-.94-2.06-.94-.94-2.06-.94 2.06-2.06.94z\"/><path d=\"M17.41 7.96l-1.37-1.37c-.4-.4-.92-.59-1.43-.59-.52 0-1.04.2-1.43.59L10.3 9.45l-7.72 7.72c-.78.78-.78 2.05 0 2.83L4 21.41c.39.39.9.59 1.41.59.51 0 1.02-.2 1.41-.59l7.78-7.78 2.81-2.81c.8-.78.8-2.07 0-2.86zM5.41 20L4 18.59l7.72-7.72 1.47 1.35L5.41 20z\"/>\n",
              "  </svg>\n",
              "      </button>\n",
              "      \n",
              "  <style>\n",
              "    .colab-df-container {\n",
              "      display:flex;\n",
              "      flex-wrap:wrap;\n",
              "      gap: 12px;\n",
              "    }\n",
              "\n",
              "    .colab-df-convert {\n",
              "      background-color: #E8F0FE;\n",
              "      border: none;\n",
              "      border-radius: 50%;\n",
              "      cursor: pointer;\n",
              "      display: none;\n",
              "      fill: #1967D2;\n",
              "      height: 32px;\n",
              "      padding: 0 0 0 0;\n",
              "      width: 32px;\n",
              "    }\n",
              "\n",
              "    .colab-df-convert:hover {\n",
              "      background-color: #E2EBFA;\n",
              "      box-shadow: 0px 1px 2px rgba(60, 64, 67, 0.3), 0px 1px 3px 1px rgba(60, 64, 67, 0.15);\n",
              "      fill: #174EA6;\n",
              "    }\n",
              "\n",
              "    [theme=dark] .colab-df-convert {\n",
              "      background-color: #3B4455;\n",
              "      fill: #D2E3FC;\n",
              "    }\n",
              "\n",
              "    [theme=dark] .colab-df-convert:hover {\n",
              "      background-color: #434B5C;\n",
              "      box-shadow: 0px 1px 3px 1px rgba(0, 0, 0, 0.15);\n",
              "      filter: drop-shadow(0px 1px 2px rgba(0, 0, 0, 0.3));\n",
              "      fill: #FFFFFF;\n",
              "    }\n",
              "  </style>\n",
              "\n",
              "      <script>\n",
              "        const buttonEl =\n",
              "          document.querySelector('#df-80bdfca5-76c9-4b61-8161-950e0e29277b button.colab-df-convert');\n",
              "        buttonEl.style.display =\n",
              "          google.colab.kernel.accessAllowed ? 'block' : 'none';\n",
              "\n",
              "        async function convertToInteractive(key) {\n",
              "          const element = document.querySelector('#df-80bdfca5-76c9-4b61-8161-950e0e29277b');\n",
              "          const dataTable =\n",
              "            await google.colab.kernel.invokeFunction('convertToInteractive',\n",
              "                                                     [key], {});\n",
              "          if (!dataTable) return;\n",
              "\n",
              "          const docLinkHtml = 'Like what you see? Visit the ' +\n",
              "            '<a target=\"_blank\" href=https://colab.research.google.com/notebooks/data_table.ipynb>data table notebook</a>'\n",
              "            + ' to learn more about interactive tables.';\n",
              "          element.innerHTML = '';\n",
              "          dataTable['output_type'] = 'display_data';\n",
              "          await google.colab.output.renderOutput(dataTable, element);\n",
              "          const docLink = document.createElement('div');\n",
              "          docLink.innerHTML = docLinkHtml;\n",
              "          element.appendChild(docLink);\n",
              "        }\n",
              "      </script>\n",
              "    </div>\n",
              "  </div>\n",
              "  "
            ]
          },
          "metadata": {},
          "execution_count": 34
        }
      ]
    },
    {
      "cell_type": "code",
      "source": [
        "bc.info()"
      ],
      "metadata": {
        "colab": {
          "base_uri": "https://localhost:8080/"
        },
        "id": "bx-KCQsrtJuU",
        "outputId": "a2031f72-5dd1-47a7-c2b3-f8329f9767a2"
      },
      "execution_count": null,
      "outputs": [
        {
          "output_type": "stream",
          "name": "stdout",
          "text": [
            "<class 'pandas.core.frame.DataFrame'>\n",
            "RangeIndex: 116 entries, 0 to 115\n",
            "Data columns (total 10 columns):\n",
            " #   Column       Non-Null Count  Dtype  \n",
            "---  ------       --------------  -----  \n",
            " 0   AGE          116 non-null    int64  \n",
            " 1   BMI          116 non-null    float64\n",
            " 2   GLUCOSE      116 non-null    int64  \n",
            " 3   INSULIN      116 non-null    float64\n",
            " 4   HOMA         116 non-null    float64\n",
            " 5   LEPTIN       116 non-null    float64\n",
            " 6   ADIPONECTIN  116 non-null    float64\n",
            " 7   RESISTIN     116 non-null    float64\n",
            " 8   MCP.1        116 non-null    float64\n",
            " 9   CLASS        116 non-null    int64  \n",
            "dtypes: float64(7), int64(3)\n",
            "memory usage: 9.2 KB\n"
          ]
        }
      ]
    },
    {
      "cell_type": "code",
      "source": [
        "bc.describe()"
      ],
      "metadata": {
        "colab": {
          "base_uri": "https://localhost:8080/",
          "height": 300
        },
        "id": "wGnkv5WdtMAL",
        "outputId": "f4916077-d255-454e-b7b4-b8abfbd79ce7"
      },
      "execution_count": null,
      "outputs": [
        {
          "output_type": "execute_result",
          "data": {
            "text/plain": [
              "              AGE         BMI     GLUCOSE     INSULIN        HOMA      LEPTIN  \\\n",
              "count  116.000000  116.000000  116.000000  116.000000  116.000000  116.000000   \n",
              "mean    57.301724   27.582111   97.793103   10.012086    2.694988   26.615080   \n",
              "std     16.112766    5.020136   22.525162   10.067768    3.642043   19.183294   \n",
              "min     24.000000   18.370000   60.000000    2.432000    0.467409    4.311000   \n",
              "25%     45.000000   22.973205   85.750000    4.359250    0.917966   12.313675   \n",
              "50%     56.000000   27.662416   92.000000    5.924500    1.380939   20.271000   \n",
              "75%     71.000000   31.241442  102.000000   11.189250    2.857787   37.378300   \n",
              "max     89.000000   38.578759  201.000000   58.460000   25.050342   90.280000   \n",
              "\n",
              "       ADIPONECTIN    RESISTIN        MCP.1       CLASS  \n",
              "count   116.000000  116.000000   116.000000  116.000000  \n",
              "mean     10.180874   14.725966   534.647000    1.551724  \n",
              "std       6.843341   12.390646   345.912663    0.499475  \n",
              "min       1.656020    3.210000    45.843000    1.000000  \n",
              "25%       5.474283    6.881763   269.978250    1.000000  \n",
              "50%       8.352692   10.827740   471.322500    2.000000  \n",
              "75%      11.815970   17.755207   700.085000    2.000000  \n",
              "max      38.040000   82.100000  1698.440000    2.000000  "
            ],
            "text/html": [
              "\n",
              "  <div id=\"df-5f09c40f-2741-4ab4-9eaf-11967df6cca5\">\n",
              "    <div class=\"colab-df-container\">\n",
              "      <div>\n",
              "<style scoped>\n",
              "    .dataframe tbody tr th:only-of-type {\n",
              "        vertical-align: middle;\n",
              "    }\n",
              "\n",
              "    .dataframe tbody tr th {\n",
              "        vertical-align: top;\n",
              "    }\n",
              "\n",
              "    .dataframe thead th {\n",
              "        text-align: right;\n",
              "    }\n",
              "</style>\n",
              "<table border=\"1\" class=\"dataframe\">\n",
              "  <thead>\n",
              "    <tr style=\"text-align: right;\">\n",
              "      <th></th>\n",
              "      <th>AGE</th>\n",
              "      <th>BMI</th>\n",
              "      <th>GLUCOSE</th>\n",
              "      <th>INSULIN</th>\n",
              "      <th>HOMA</th>\n",
              "      <th>LEPTIN</th>\n",
              "      <th>ADIPONECTIN</th>\n",
              "      <th>RESISTIN</th>\n",
              "      <th>MCP.1</th>\n",
              "      <th>CLASS</th>\n",
              "    </tr>\n",
              "  </thead>\n",
              "  <tbody>\n",
              "    <tr>\n",
              "      <th>count</th>\n",
              "      <td>116.000000</td>\n",
              "      <td>116.000000</td>\n",
              "      <td>116.000000</td>\n",
              "      <td>116.000000</td>\n",
              "      <td>116.000000</td>\n",
              "      <td>116.000000</td>\n",
              "      <td>116.000000</td>\n",
              "      <td>116.000000</td>\n",
              "      <td>116.000000</td>\n",
              "      <td>116.000000</td>\n",
              "    </tr>\n",
              "    <tr>\n",
              "      <th>mean</th>\n",
              "      <td>57.301724</td>\n",
              "      <td>27.582111</td>\n",
              "      <td>97.793103</td>\n",
              "      <td>10.012086</td>\n",
              "      <td>2.694988</td>\n",
              "      <td>26.615080</td>\n",
              "      <td>10.180874</td>\n",
              "      <td>14.725966</td>\n",
              "      <td>534.647000</td>\n",
              "      <td>1.551724</td>\n",
              "    </tr>\n",
              "    <tr>\n",
              "      <th>std</th>\n",
              "      <td>16.112766</td>\n",
              "      <td>5.020136</td>\n",
              "      <td>22.525162</td>\n",
              "      <td>10.067768</td>\n",
              "      <td>3.642043</td>\n",
              "      <td>19.183294</td>\n",
              "      <td>6.843341</td>\n",
              "      <td>12.390646</td>\n",
              "      <td>345.912663</td>\n",
              "      <td>0.499475</td>\n",
              "    </tr>\n",
              "    <tr>\n",
              "      <th>min</th>\n",
              "      <td>24.000000</td>\n",
              "      <td>18.370000</td>\n",
              "      <td>60.000000</td>\n",
              "      <td>2.432000</td>\n",
              "      <td>0.467409</td>\n",
              "      <td>4.311000</td>\n",
              "      <td>1.656020</td>\n",
              "      <td>3.210000</td>\n",
              "      <td>45.843000</td>\n",
              "      <td>1.000000</td>\n",
              "    </tr>\n",
              "    <tr>\n",
              "      <th>25%</th>\n",
              "      <td>45.000000</td>\n",
              "      <td>22.973205</td>\n",
              "      <td>85.750000</td>\n",
              "      <td>4.359250</td>\n",
              "      <td>0.917966</td>\n",
              "      <td>12.313675</td>\n",
              "      <td>5.474283</td>\n",
              "      <td>6.881763</td>\n",
              "      <td>269.978250</td>\n",
              "      <td>1.000000</td>\n",
              "    </tr>\n",
              "    <tr>\n",
              "      <th>50%</th>\n",
              "      <td>56.000000</td>\n",
              "      <td>27.662416</td>\n",
              "      <td>92.000000</td>\n",
              "      <td>5.924500</td>\n",
              "      <td>1.380939</td>\n",
              "      <td>20.271000</td>\n",
              "      <td>8.352692</td>\n",
              "      <td>10.827740</td>\n",
              "      <td>471.322500</td>\n",
              "      <td>2.000000</td>\n",
              "    </tr>\n",
              "    <tr>\n",
              "      <th>75%</th>\n",
              "      <td>71.000000</td>\n",
              "      <td>31.241442</td>\n",
              "      <td>102.000000</td>\n",
              "      <td>11.189250</td>\n",
              "      <td>2.857787</td>\n",
              "      <td>37.378300</td>\n",
              "      <td>11.815970</td>\n",
              "      <td>17.755207</td>\n",
              "      <td>700.085000</td>\n",
              "      <td>2.000000</td>\n",
              "    </tr>\n",
              "    <tr>\n",
              "      <th>max</th>\n",
              "      <td>89.000000</td>\n",
              "      <td>38.578759</td>\n",
              "      <td>201.000000</td>\n",
              "      <td>58.460000</td>\n",
              "      <td>25.050342</td>\n",
              "      <td>90.280000</td>\n",
              "      <td>38.040000</td>\n",
              "      <td>82.100000</td>\n",
              "      <td>1698.440000</td>\n",
              "      <td>2.000000</td>\n",
              "    </tr>\n",
              "  </tbody>\n",
              "</table>\n",
              "</div>\n",
              "      <button class=\"colab-df-convert\" onclick=\"convertToInteractive('df-5f09c40f-2741-4ab4-9eaf-11967df6cca5')\"\n",
              "              title=\"Convert this dataframe to an interactive table.\"\n",
              "              style=\"display:none;\">\n",
              "        \n",
              "  <svg xmlns=\"http://www.w3.org/2000/svg\" height=\"24px\"viewBox=\"0 0 24 24\"\n",
              "       width=\"24px\">\n",
              "    <path d=\"M0 0h24v24H0V0z\" fill=\"none\"/>\n",
              "    <path d=\"M18.56 5.44l.94 2.06.94-2.06 2.06-.94-2.06-.94-.94-2.06-.94 2.06-2.06.94zm-11 1L8.5 8.5l.94-2.06 2.06-.94-2.06-.94L8.5 2.5l-.94 2.06-2.06.94zm10 10l.94 2.06.94-2.06 2.06-.94-2.06-.94-.94-2.06-.94 2.06-2.06.94z\"/><path d=\"M17.41 7.96l-1.37-1.37c-.4-.4-.92-.59-1.43-.59-.52 0-1.04.2-1.43.59L10.3 9.45l-7.72 7.72c-.78.78-.78 2.05 0 2.83L4 21.41c.39.39.9.59 1.41.59.51 0 1.02-.2 1.41-.59l7.78-7.78 2.81-2.81c.8-.78.8-2.07 0-2.86zM5.41 20L4 18.59l7.72-7.72 1.47 1.35L5.41 20z\"/>\n",
              "  </svg>\n",
              "      </button>\n",
              "      \n",
              "  <style>\n",
              "    .colab-df-container {\n",
              "      display:flex;\n",
              "      flex-wrap:wrap;\n",
              "      gap: 12px;\n",
              "    }\n",
              "\n",
              "    .colab-df-convert {\n",
              "      background-color: #E8F0FE;\n",
              "      border: none;\n",
              "      border-radius: 50%;\n",
              "      cursor: pointer;\n",
              "      display: none;\n",
              "      fill: #1967D2;\n",
              "      height: 32px;\n",
              "      padding: 0 0 0 0;\n",
              "      width: 32px;\n",
              "    }\n",
              "\n",
              "    .colab-df-convert:hover {\n",
              "      background-color: #E2EBFA;\n",
              "      box-shadow: 0px 1px 2px rgba(60, 64, 67, 0.3), 0px 1px 3px 1px rgba(60, 64, 67, 0.15);\n",
              "      fill: #174EA6;\n",
              "    }\n",
              "\n",
              "    [theme=dark] .colab-df-convert {\n",
              "      background-color: #3B4455;\n",
              "      fill: #D2E3FC;\n",
              "    }\n",
              "\n",
              "    [theme=dark] .colab-df-convert:hover {\n",
              "      background-color: #434B5C;\n",
              "      box-shadow: 0px 1px 3px 1px rgba(0, 0, 0, 0.15);\n",
              "      filter: drop-shadow(0px 1px 2px rgba(0, 0, 0, 0.3));\n",
              "      fill: #FFFFFF;\n",
              "    }\n",
              "  </style>\n",
              "\n",
              "      <script>\n",
              "        const buttonEl =\n",
              "          document.querySelector('#df-5f09c40f-2741-4ab4-9eaf-11967df6cca5 button.colab-df-convert');\n",
              "        buttonEl.style.display =\n",
              "          google.colab.kernel.accessAllowed ? 'block' : 'none';\n",
              "\n",
              "        async function convertToInteractive(key) {\n",
              "          const element = document.querySelector('#df-5f09c40f-2741-4ab4-9eaf-11967df6cca5');\n",
              "          const dataTable =\n",
              "            await google.colab.kernel.invokeFunction('convertToInteractive',\n",
              "                                                     [key], {});\n",
              "          if (!dataTable) return;\n",
              "\n",
              "          const docLinkHtml = 'Like what you see? Visit the ' +\n",
              "            '<a target=\"_blank\" href=https://colab.research.google.com/notebooks/data_table.ipynb>data table notebook</a>'\n",
              "            + ' to learn more about interactive tables.';\n",
              "          element.innerHTML = '';\n",
              "          dataTable['output_type'] = 'display_data';\n",
              "          await google.colab.output.renderOutput(dataTable, element);\n",
              "          const docLink = document.createElement('div');\n",
              "          docLink.innerHTML = docLinkHtml;\n",
              "          element.appendChild(docLink);\n",
              "        }\n",
              "      </script>\n",
              "    </div>\n",
              "  </div>\n",
              "  "
            ]
          },
          "metadata": {},
          "execution_count": 37
        }
      ]
    },
    {
      "cell_type": "code",
      "source": [
        "x = bc.iloc[:,[7,8]].values\n",
        "y = bc.iloc[:, -1].values"
      ],
      "metadata": {
        "id": "9ruSiQJauBiv"
      },
      "execution_count": null,
      "outputs": []
    },
    {
      "cell_type": "code",
      "source": [
        "x"
      ],
      "metadata": {
        "id": "k2CBgq0guIsA",
        "colab": {
          "base_uri": "https://localhost:8080/"
        },
        "outputId": "e6213701-0a46-42e9-a96e-5b792601b12d"
      },
      "execution_count": null,
      "outputs": [
        {
          "output_type": "execute_result",
          "data": {
            "text/plain": [
              "array([[   7.99585,  417.114  ],\n",
              "       [   4.06405,  468.786  ],\n",
              "       [   9.27715,  554.697  ],\n",
              "       [  12.766  ,  928.22   ],\n",
              "       [  10.57635,  773.92   ],\n",
              "       [  10.3176 ,  530.41   ],\n",
              "       [  12.9361 , 1256.083  ],\n",
              "       [   5.1042 ,  280.694  ],\n",
              "       [   6.28445,  136.855  ],\n",
              "       [   7.0913 ,  318.302  ],\n",
              "       [   6.92   ,  354.6    ],\n",
              "       [   4.58   ,  174.8    ],\n",
              "       [   5.14   ,  313.73   ],\n",
              "       [   6.85   ,  632.22   ],\n",
              "       [   9.35   ,  165.02   ],\n",
              "       [   7.64   ,   63.61   ],\n",
              "       [   3.32   ,  191.72   ],\n",
              "       [  13.68392,  444.395  ],\n",
              "       [   6.70188,  252.449  ],\n",
              "       [  17.10223,  588.46   ],\n",
              "       [   9.1539 ,  534.224  ],\n",
              "       [   5.62592,  572.783  ],\n",
              "       [  24.6033 ,  904.981  ],\n",
              "       [  16.43706,  733.797  ],\n",
              "       [  10.19299, 1227.91   ],\n",
              "       [   8.70448,  586.173  ],\n",
              "       [  11.78388,  887.16   ],\n",
              "       [  23.3819 , 1102.11   ],\n",
              "       [  22.03703,  667.928  ],\n",
              "       [  15.72187,  581.313  ],\n",
              "       [  22.32024,  864.968  ],\n",
              "       [  10.26309,  695.754  ],\n",
              "       [  21.44366,  358.624  ],\n",
              "       [   6.71026,  960.246  ],\n",
              "       [  10.37518,  473.859  ],\n",
              "       [   4.2075 ,  585.307  ],\n",
              "       [   3.29175,  634.602  ],\n",
              "       [  82.1    ,  263.499  ],\n",
              "       [  20.2535 ,  378.996  ],\n",
              "       [  17.2615 ,  618.272  ],\n",
              "       [   8.04375,  698.789  ],\n",
              "       [   8.4156 ,  377.227  ],\n",
              "       [   7.5767 ,  335.393  ],\n",
              "       [  11.78796,  270.142  ],\n",
              "       [   4.2989 ,  200.976  ],\n",
              "       [   6.7052 ,  225.88   ],\n",
              "       [   4.49685,  206.802  ],\n",
              "       [   4.6638 ,  209.749  ],\n",
              "       [   4.53   ,  215.769  ],\n",
              "       [   9.6135 ,  232.006  ],\n",
              "       [   8.49395,   45.843  ],\n",
              "       [  11.774  ,  488.829  ],\n",
              "       [  23.03408,  552.444  ],\n",
              "       [  28.0323 ,  382.955  ],\n",
              "       [  23.1177 ,  573.63   ],\n",
              "       [  12.06534,  481.949  ],\n",
              "       [  17.37615,  321.919  ],\n",
              "       [  13.74244,  448.799  ],\n",
              "       [   5.57055,   90.6    ],\n",
              "       [  10.69548,  703.973  ],\n",
              "       [  15.73606,  199.055  ],\n",
              "       [  15.69876,  713.239  ],\n",
              "       [  22.94254,  737.672  ],\n",
              "       [  11.55492,  359.232  ],\n",
              "       [   8.2049 ,  355.31   ],\n",
              "       [   5.2633 ,  518.586  ],\n",
              "       [  10.34455,  635.049  ],\n",
              "       [  13.91245,  395.976  ],\n",
              "       [  13.56   ,  301.21   ],\n",
              "       [   4.62   ,  220.66   ],\n",
              "       [   7.84   ,  193.87   ],\n",
              "       [   5.31   ,  244.75   ],\n",
              "       [   3.21   ,  513.66   ],\n",
              "       [   4.82   ,  195.94   ],\n",
              "       [   5.68   ,  312.     ],\n",
              "       [  16.1    ,  806.724  ],\n",
              "       [   7.16514,  483.377  ],\n",
              "       [  38.6531 ,  775.322  ],\n",
              "       [  24.3701 , 1698.44   ],\n",
              "       [  27.8325 ,  783.796  ],\n",
              "       [  31.6904 ,  910.489  ],\n",
              "       [  29.5583 ,  426.175  ],\n",
              "       [  10.15726,  738.034  ],\n",
              "       [  42.7447 ,  799.898  ],\n",
              "       [  53.6717 , 1041.843  ],\n",
              "       [  19.46324, 1698.44   ],\n",
              "       [  16.11032, 1698.44   ],\n",
              "       [  55.2153 , 1078.359  ],\n",
              "       [  53.6308 , 1698.44   ],\n",
              "       [  13.97399,  923.886  ],\n",
              "       [  17.55503,  638.261  ],\n",
              "       [  19.94687,  994.316  ],\n",
              "       [  24.24591,  764.667  ],\n",
              "       [   5.768  ,  656.393  ],\n",
              "       [  11.50005,  396.021  ],\n",
              "       [  20.76801,  602.486  ],\n",
              "       [  23.03306,  407.206  ],\n",
              "       [  26.0136 ,  293.123  ],\n",
              "       [  49.24184,  256.001  ],\n",
              "       [  16.48508,  353.568  ],\n",
              "       [  18.35574,  572.401  ],\n",
              "       [  14.91922,  269.487  ],\n",
              "       [  20.4685 ,  396.648  ],\n",
              "       [  14.76966,  232.018  ],\n",
              "       [   9.9542 ,  655.834  ],\n",
              "       [   6.89235,  788.902  ],\n",
              "       [  15.55625,  621.273  ],\n",
              "       [   8.89   ,  209.19   ],\n",
              "       [   4.19   ,  198.4    ],\n",
              "       [  11.73   ,   99.45   ],\n",
              "       [   5.06   ,  218.28   ],\n",
              "       [  10.96   ,  268.23   ],\n",
              "       [   7.32   ,  330.16   ],\n",
              "       [  10.33   ,  314.05   ],\n",
              "       [   3.27   ,  392.46   ],\n",
              "       [   4.35   ,   90.09   ]])"
            ]
          },
          "metadata": {},
          "execution_count": 39
        }
      ]
    },
    {
      "cell_type": "code",
      "source": [
        "y"
      ],
      "metadata": {
        "colab": {
          "base_uri": "https://localhost:8080/"
        },
        "id": "LsaUcPTHZAbN",
        "outputId": "9bf660eb-51be-4e86-dc1a-11e356b76a4a"
      },
      "execution_count": null,
      "outputs": [
        {
          "output_type": "execute_result",
          "data": {
            "text/plain": [
              "array([1, 1, 1, 1, 1, 1, 1, 1, 1, 1, 1, 1, 1, 1, 1, 1, 1, 1, 1, 1, 1, 1,\n",
              "       1, 1, 1, 1, 1, 1, 1, 1, 1, 1, 1, 1, 1, 1, 1, 1, 1, 1, 1, 1, 1, 1,\n",
              "       1, 1, 1, 1, 1, 1, 1, 1, 2, 2, 2, 2, 2, 2, 2, 2, 2, 2, 2, 2, 2, 2,\n",
              "       2, 2, 2, 2, 2, 2, 2, 2, 2, 2, 2, 2, 2, 2, 2, 2, 2, 2, 2, 2, 2, 2,\n",
              "       2, 2, 2, 2, 2, 2, 2, 2, 2, 2, 2, 2, 2, 2, 2, 2, 2, 2, 2, 2, 2, 2,\n",
              "       2, 2, 2, 2, 2, 2])"
            ]
          },
          "metadata": {},
          "execution_count": 40
        }
      ]
    },
    {
      "cell_type": "code",
      "source": [
        "from sklearn.model_selection import train_test_split\n",
        "\n",
        "x_train, x_test, y_train, y_test = train_test_split(x,y, test_size=0.25, random_state=0)"
      ],
      "metadata": {
        "id": "yrdfL_xTZBAk"
      },
      "execution_count": null,
      "outputs": []
    },
    {
      "cell_type": "code",
      "source": [
        "print(x_train)"
      ],
      "metadata": {
        "colab": {
          "base_uri": "https://localhost:8080/"
        },
        "id": "9wTQSzp0aMub",
        "outputId": "587b7ab6-c5bd-469f-e285-b0be698932bf"
      },
      "execution_count": null,
      "outputs": [
        {
          "output_type": "stream",
          "name": "stdout",
          "text": [
            "[[   5.768    656.393  ]\n",
            " [   6.71026  960.246  ]\n",
            " [   6.7052   225.88   ]\n",
            " [  12.766    928.22   ]\n",
            " [   4.53     215.769  ]\n",
            " [  12.9361  1256.083  ]\n",
            " [  23.1177   573.63   ]\n",
            " [   4.35      90.09   ]\n",
            " [  20.76801  602.486  ]\n",
            " [  14.91922  269.487  ]\n",
            " [  23.03306  407.206  ]\n",
            " [  19.94687  994.316  ]\n",
            " [  11.55492  359.232  ]\n",
            " [  23.3819  1102.11   ]\n",
            " [   6.70188  252.449  ]\n",
            " [   4.58     174.8    ]\n",
            " [  10.69548  703.973  ]\n",
            " [  13.56     301.21   ]\n",
            " [  15.69876  713.239  ]\n",
            " [   7.16514  483.377  ]\n",
            " [   8.49395   45.843  ]\n",
            " [   4.06405  468.786  ]\n",
            " [   9.9542   655.834  ]\n",
            " [   7.5767   335.393  ]\n",
            " [   8.4156   377.227  ]\n",
            " [  10.57635  773.92   ]\n",
            " [   7.64      63.61   ]\n",
            " [  13.68392  444.395  ]\n",
            " [  23.03408  552.444  ]\n",
            " [   8.04375  698.789  ]\n",
            " [  20.2535   378.996  ]\n",
            " [  10.3176   530.41   ]\n",
            " [  28.0323   382.955  ]\n",
            " [  15.55625  621.273  ]\n",
            " [   4.19     198.4    ]\n",
            " [   7.99585  417.114  ]\n",
            " [  10.37518  473.859  ]\n",
            " [  22.03703  667.928  ]\n",
            " [  12.06534  481.949  ]\n",
            " [   4.2075   585.307  ]\n",
            " [  16.43706  733.797  ]\n",
            " [  10.26309  695.754  ]\n",
            " [  16.1      806.724  ]\n",
            " [  13.74244  448.799  ]\n",
            " [  13.97399  923.886  ]\n",
            " [  16.48508  353.568  ]\n",
            " [  21.44366  358.624  ]\n",
            " [  49.24184  256.001  ]\n",
            " [   9.35     165.02   ]\n",
            " [  19.46324 1698.44   ]\n",
            " [  17.10223  588.46   ]\n",
            " [  15.72187  581.313  ]\n",
            " [   9.6135   232.006  ]\n",
            " [  10.15726  738.034  ]\n",
            " [  10.33     314.05   ]\n",
            " [   3.27     392.46   ]\n",
            " [  27.8325   783.796  ]\n",
            " [   4.62     220.66   ]\n",
            " [  31.6904   910.489  ]\n",
            " [   9.1539   534.224  ]\n",
            " [  11.73      99.45   ]\n",
            " [   3.21     513.66   ]\n",
            " [  38.6531   775.322  ]\n",
            " [   8.70448  586.173  ]\n",
            " [  82.1      263.499  ]\n",
            " [  29.5583   426.175  ]\n",
            " [  20.4685   396.648  ]\n",
            " [   4.49685  206.802  ]\n",
            " [   6.89235  788.902  ]\n",
            " [  17.2615   618.272  ]\n",
            " [   5.2633   518.586  ]\n",
            " [   5.57055   90.6    ]\n",
            " [   5.14     313.73   ]\n",
            " [   5.06     218.28   ]\n",
            " [  53.6308  1698.44   ]\n",
            " [   7.84     193.87   ]\n",
            " [  55.2153  1078.359  ]\n",
            " [   3.29175  634.602  ]\n",
            " [   5.62592  572.783  ]\n",
            " [  42.7447   799.898  ]\n",
            " [   7.0913   318.302  ]\n",
            " [  14.76966  232.018  ]\n",
            " [   7.32     330.16   ]\n",
            " [  13.91245  395.976  ]\n",
            " [   8.2049   355.31   ]\n",
            " [   4.6638   209.749  ]\n",
            " [   4.2989   200.976  ]]\n"
          ]
        }
      ]
    },
    {
      "cell_type": "code",
      "source": [
        "print(x_test)"
      ],
      "metadata": {
        "colab": {
          "base_uri": "https://localhost:8080/"
        },
        "id": "iKirvpjcaSBJ",
        "outputId": "cb8fc105-fe10-46ef-e155-09acae7a12cd"
      },
      "execution_count": null,
      "outputs": [
        {
          "output_type": "stream",
          "name": "stdout",
          "text": [
            "[[   6.92     354.6    ]\n",
            " [   5.68     312.     ]\n",
            " [  10.34455  635.049  ]\n",
            " [  11.774    488.829  ]\n",
            " [   5.1042   280.694  ]\n",
            " [  24.3701  1698.44   ]\n",
            " [  24.24591  764.667  ]\n",
            " [  17.55503  638.261  ]\n",
            " [   8.89     209.19   ]\n",
            " [  22.94254  737.672  ]\n",
            " [  22.32024  864.968  ]\n",
            " [   9.27715  554.697  ]\n",
            " [  11.50005  396.021  ]\n",
            " [  24.6033   904.981  ]\n",
            " [  11.78796  270.142  ]\n",
            " [  53.6717  1041.843  ]\n",
            " [  10.19299 1227.91   ]\n",
            " [   4.82     195.94   ]\n",
            " [  15.73606  199.055  ]\n",
            " [  17.37615  321.919  ]\n",
            " [   3.32     191.72   ]\n",
            " [   6.85     632.22   ]\n",
            " [  11.78388  887.16   ]\n",
            " [  16.11032 1698.44   ]\n",
            " [   5.31     244.75   ]\n",
            " [  26.0136   293.123  ]\n",
            " [  10.96     268.23   ]\n",
            " [  18.35574  572.401  ]\n",
            " [   6.28445  136.855  ]]\n"
          ]
        }
      ]
    },
    {
      "cell_type": "code",
      "source": [
        "print(y_test)"
      ],
      "metadata": {
        "colab": {
          "base_uri": "https://localhost:8080/"
        },
        "id": "O0I52bAJaV1_",
        "outputId": "46619300-7946-4269-edb9-12d2be76bbf7"
      },
      "execution_count": null,
      "outputs": [
        {
          "output_type": "stream",
          "name": "stdout",
          "text": [
            "[1 2 2 1 1 2 2 2 2 2 1 1 2 1 1 2 1 2 2 2 1 1 1 2 2 2 2 2 1]\n"
          ]
        }
      ]
    },
    {
      "cell_type": "code",
      "source": [
        "print(y_train)"
      ],
      "metadata": {
        "colab": {
          "base_uri": "https://localhost:8080/"
        },
        "id": "n_LJ8eAIaZld",
        "outputId": "5f4c52d0-fc5f-4709-87dc-8d83cf2207f6"
      },
      "execution_count": null,
      "outputs": [
        {
          "output_type": "stream",
          "name": "stdout",
          "text": [
            "[2 1 1 1 1 1 2 2 2 2 2 2 2 1 1 1 2 2 2 2 1 1 2 1 1 1 1 1 2 1 1 1 2 2 2 1 1\n",
            " 1 2 1 1 1 2 2 2 2 1 2 1 2 1 1 1 2 2 2 2 2 2 1 2 2 2 1 1 2 2 1 2 1 2 2 1 2\n",
            " 2 2 2 1 1 2 1 2 2 2 2 1 1]\n"
          ]
        }
      ]
    },
    {
      "cell_type": "code",
      "source": [
        "from sklearn.preprocessing import StandardScaler\n",
        "sc = StandardScaler()\n",
        "x_train = sc.fit_transform(x_train)\n",
        "x_test = sc.transform(x_test)"
      ],
      "metadata": {
        "id": "1esgiD58abmz"
      },
      "execution_count": null,
      "outputs": []
    },
    {
      "cell_type": "code",
      "source": [
        "x_train"
      ],
      "metadata": {
        "colab": {
          "base_uri": "https://localhost:8080/"
        },
        "id": "oDg5PDgwa2e7",
        "outputId": "b9db6928-cf50-470a-d416-2f4716919e8a"
      },
      "execution_count": null,
      "outputs": [
        {
          "output_type": "execute_result",
          "data": {
            "text/plain": [
              "array([[-6.90949655e-01,  4.40515990e-01],\n",
              "       [-6.18545209e-01,  1.40221505e+00],\n",
              "       [-6.18934026e-01, -9.22063769e-01],\n",
              "       [-1.53214514e-01,  1.30085230e+00],\n",
              "       [-7.86079135e-01, -9.54065227e-01],\n",
              "       [-1.40143815e-01,  2.33854336e+00],\n",
              "       [ 6.42223163e-01,  1.78569919e-01],\n",
              "       [-7.99910562e-01, -1.35184105e+00],\n",
              "       [ 4.61670022e-01,  2.69899569e-01],\n",
              "       [ 1.22416254e-02, -7.84046995e-01],\n",
              "       [ 6.35719319e-01, -3.48164404e-01],\n",
              "       [ 3.98572589e-01,  1.51004708e+00],\n",
              "       [-2.46275427e-01, -5.00002795e-01],\n",
              "       [ 6.62524624e-01,  1.85121662e+00],\n",
              "       [-6.19189139e-01, -8.37972507e-01],\n",
              "       [-7.82237072e-01, -1.08373269e+00],\n",
              "       [-3.12315880e-01,  5.91107365e-01],\n",
              "       [-9.22025528e-02, -6.83643249e-01],\n",
              "       [ 7.21424616e-02,  6.20434387e-01],\n",
              "       [-5.83591656e-01, -1.07082107e-01],\n",
              "       [-4.81484221e-01, -1.49188343e+00],\n",
              "       [-8.21883321e-01, -1.53262830e-01],\n",
              "       [-3.69276770e-01,  4.38746747e-01],\n",
              "       [-5.51966867e-01, -5.75453569e-01],\n",
              "       [-4.87504734e-01, -4.43048365e-01],\n",
              "       [-3.21469980e-01,  8.12490613e-01],\n",
              "       [-5.47102815e-01, -1.43565062e+00],\n",
              "       [-8.26803838e-02, -2.30460691e-01],\n",
              "       [ 6.35797697e-01,  1.11515928e-01],\n",
              "       [-5.16078156e-01,  5.74699932e-01],\n",
              "       [ 4.22134425e-01, -4.37449455e-01],\n",
              "       [-3.41352656e-01,  4.17780055e-02],\n",
              "       [ 1.01986722e+00, -4.24919163e-01],\n",
              "       [ 6.11918136e-02,  3.29360691e-01],\n",
              "       [-8.12205164e-01, -1.00903836e+00],\n",
              "       [-5.19758853e-01, -3.16805443e-01],\n",
              "       [-3.36928136e-01, -1.37206712e-01],\n",
              "       [ 5.59183118e-01,  4.77024428e-01],\n",
              "       [-2.07054111e-01, -1.11601748e-01],\n",
              "       [-8.10860442e-01,  2.15527790e-01],\n",
              "       [ 1.28874364e-01,  6.85500749e-01],\n",
              "       [-3.45541273e-01,  5.65094113e-01],\n",
              "       [ 1.02974249e-01,  9.16315739e-01],\n",
              "       [-7.81836332e-02, -2.16521968e-01],\n",
              "       [-6.03910393e-02,  1.28713513e+00],\n",
              "       [ 1.32564282e-01, -5.17929436e-01],\n",
              "       [ 5.13587819e-01, -5.01927124e-01],\n",
              "       [ 2.64963501e+00, -8.26730376e-01],\n",
              "       [-4.15704260e-01, -1.11468653e+00],\n",
              "       [ 3.61409850e-01,  3.73860954e+00],\n",
              "       [ 1.79986866e-01,  2.25507080e-01],\n",
              "       [ 7.39182632e-02,  2.02886723e-01],\n",
              "       [-3.95456588e-01, -9.02674892e-01],\n",
              "       [-3.53673384e-01,  6.98910914e-01],\n",
              "       [-3.40399824e-01, -6.43004467e-01],\n",
              "       [-8.82899124e-01, -3.94835703e-01],\n",
              "       [ 1.00451434e+00,  8.43748294e-01],\n",
              "       [-7.79163422e-01, -9.38585143e-01],\n",
              "       [ 1.30096024e+00,  1.24473344e+00],\n",
              "       [-4.30772831e-01,  5.38493697e-02],\n",
              "       [-2.32822060e-01, -1.32221651e+00],\n",
              "       [-8.87509599e-01, -1.12359823e-02],\n",
              "       [ 1.83598288e+00,  8.16927963e-01],\n",
              "       [-4.65306830e-01,  2.18268692e-01],\n",
              "       [ 5.17449744e+00, -8.02999100e-01],\n",
              "       [ 1.13712699e+00, -2.88127250e-01],\n",
              "       [ 4.38655296e-01, -3.81580624e-01],\n",
              "       [-7.88626423e-01, -9.82445910e-01],\n",
              "       [-6.04553184e-01,  8.59908856e-01],\n",
              "       [ 1.92225373e-01,  3.19862483e-01],\n",
              "       [-7.29731439e-01,  4.35487764e-03],\n",
              "       [-7.06121962e-01, -1.35022689e+00],\n",
              "       [-7.39205967e-01, -6.44017271e-01],\n",
              "       [-7.45353267e-01, -9.46117877e-01],\n",
              "       [ 2.98688823e+00,  3.73860954e+00],\n",
              "       [-5.31734563e-01, -1.02337587e+00],\n",
              "       [ 3.10864321e+00,  1.77604437e+00],\n",
              "       [-8.81227826e-01,  3.71547165e-01],\n",
              "       [-7.01867261e-01,  1.75889152e-01],\n",
              "       [ 2.15038658e+00,  8.94711352e-01],\n",
              "       [-5.89265615e-01, -6.29546826e-01],\n",
              "       [ 7.49246452e-04, -9.02636912e-01],\n",
              "       [-5.71692019e-01, -5.92016088e-01],\n",
              "       [-6.51198505e-02, -3.83707513e-01],\n",
              "       [-5.03695187e-01, -5.12415981e-01],\n",
              "       [-7.75797775e-01, -9.73118613e-01],\n",
              "       [-8.03837151e-01, -1.00088528e+00]])"
            ]
          },
          "metadata": {},
          "execution_count": 47
        }
      ]
    },
    {
      "cell_type": "code",
      "source": [
        "x_test"
      ],
      "metadata": {
        "colab": {
          "base_uri": "https://localhost:8080/"
        },
        "id": "kVJUuBlAa9qb",
        "outputId": "9650df3b-61e9-4d95-9390-0f585d97e680"
      },
      "execution_count": null,
      "outputs": [
        {
          "output_type": "execute_result",
          "data": {
            "text/plain": [
              "array([[-0.60242852, -0.51466314],\n",
              "       [-0.69771169, -0.64949275],\n",
              "       [-0.33928178,  0.37296193],\n",
              "       [-0.22944104, -0.08982645],\n",
              "       [-0.74195688, -0.74857668],\n",
              "       [ 0.73845916,  3.73860954],\n",
              "       [ 0.72891624,  0.78320474],\n",
              "       [ 0.21478059,  0.38312795],\n",
              "       [-0.45105124, -0.97488786],\n",
              "       [ 0.62876365,  0.69776518],\n",
              "       [ 0.58094533,  1.10065883],\n",
              "       [-0.42130215,  0.11864671],\n",
              "       [-0.25049171, -0.38356509],\n",
              "       [ 0.75637854,  1.22730054],\n",
              "       [-0.22836834, -0.78197391],\n",
              "       [ 2.99003104,  1.66047071],\n",
              "       [-0.35092785,  2.24937541],\n",
              "       [-0.76379517, -1.01682429],\n",
              "       [ 0.07500864, -1.00696527],\n",
              "       [ 0.20103522, -0.61809897],\n",
              "       [-0.87905706, -1.03018065],\n",
              "       [-0.60780741,  0.3640081 ],\n",
              "       [-0.22868185,  1.17089682],\n",
              "       [ 0.10376725,  3.73860954],\n",
              "       [-0.72614295, -0.86233995],\n",
              "       [ 0.86474777, -0.70923872],\n",
              "       [-0.29198983, -0.78802542],\n",
              "       [ 0.27630815,  0.17468012],\n",
              "       [-0.65126499, -1.20382916]])"
            ]
          },
          "metadata": {},
          "execution_count": 48
        }
      ]
    },
    {
      "cell_type": "code",
      "source": [
        "len(x_train)"
      ],
      "metadata": {
        "colab": {
          "base_uri": "https://localhost:8080/"
        },
        "id": "fTao9lZldJyT",
        "outputId": "1c3f85d9-7134-46d4-dac1-d799c84c3aed"
      },
      "execution_count": null,
      "outputs": [
        {
          "output_type": "execute_result",
          "data": {
            "text/plain": [
              "87"
            ]
          },
          "metadata": {},
          "execution_count": 49
        }
      ]
    },
    {
      "cell_type": "code",
      "source": [
        "len(x_test)"
      ],
      "metadata": {
        "colab": {
          "base_uri": "https://localhost:8080/"
        },
        "id": "FytVhxU6dNvN",
        "outputId": "e07716f3-851e-4374-ce0e-b970b19bc990"
      },
      "execution_count": null,
      "outputs": [
        {
          "output_type": "execute_result",
          "data": {
            "text/plain": [
              "29"
            ]
          },
          "metadata": {},
          "execution_count": 50
        }
      ]
    },
    {
      "cell_type": "code",
      "source": [
        "len(y_test)"
      ],
      "metadata": {
        "colab": {
          "base_uri": "https://localhost:8080/"
        },
        "id": "YvgqonirdVo5",
        "outputId": "2e16016e-94ca-4e7a-c123-9b5b7838137a"
      },
      "execution_count": null,
      "outputs": [
        {
          "output_type": "execute_result",
          "data": {
            "text/plain": [
              "29"
            ]
          },
          "metadata": {},
          "execution_count": 51
        }
      ]
    },
    {
      "cell_type": "code",
      "source": [
        "len(y_train)"
      ],
      "metadata": {
        "colab": {
          "base_uri": "https://localhost:8080/"
        },
        "id": "s8blQtAYdaq9",
        "outputId": "bf044b12-57aa-41f5-a53b-82582cfce913"
      },
      "execution_count": null,
      "outputs": [
        {
          "output_type": "execute_result",
          "data": {
            "text/plain": [
              "87"
            ]
          },
          "metadata": {},
          "execution_count": 52
        }
      ]
    },
    {
      "cell_type": "code",
      "source": [
        "from sklearn.neighbors import KNeighborsClassifier\n",
        "classifier = KNeighborsClassifier(n_neighbors=5, metric='minkowski', p=2)\n",
        "classifier.fit(x_train, y_train)"
      ],
      "metadata": {
        "colab": {
          "base_uri": "https://localhost:8080/",
          "height": 74
        },
        "id": "n4igxjSYa_NQ",
        "outputId": "8d88fa21-3a68-454e-f349-3559e162bb37"
      },
      "execution_count": null,
      "outputs": [
        {
          "output_type": "execute_result",
          "data": {
            "text/plain": [
              "KNeighborsClassifier()"
            ],
            "text/html": [
              "<style>#sk-container-id-2 {color: black;background-color: white;}#sk-container-id-2 pre{padding: 0;}#sk-container-id-2 div.sk-toggleable {background-color: white;}#sk-container-id-2 label.sk-toggleable__label {cursor: pointer;display: block;width: 100%;margin-bottom: 0;padding: 0.3em;box-sizing: border-box;text-align: center;}#sk-container-id-2 label.sk-toggleable__label-arrow:before {content: \"▸\";float: left;margin-right: 0.25em;color: #696969;}#sk-container-id-2 label.sk-toggleable__label-arrow:hover:before {color: black;}#sk-container-id-2 div.sk-estimator:hover label.sk-toggleable__label-arrow:before {color: black;}#sk-container-id-2 div.sk-toggleable__content {max-height: 0;max-width: 0;overflow: hidden;text-align: left;background-color: #f0f8ff;}#sk-container-id-2 div.sk-toggleable__content pre {margin: 0.2em;color: black;border-radius: 0.25em;background-color: #f0f8ff;}#sk-container-id-2 input.sk-toggleable__control:checked~div.sk-toggleable__content {max-height: 200px;max-width: 100%;overflow: auto;}#sk-container-id-2 input.sk-toggleable__control:checked~label.sk-toggleable__label-arrow:before {content: \"▾\";}#sk-container-id-2 div.sk-estimator input.sk-toggleable__control:checked~label.sk-toggleable__label {background-color: #d4ebff;}#sk-container-id-2 div.sk-label input.sk-toggleable__control:checked~label.sk-toggleable__label {background-color: #d4ebff;}#sk-container-id-2 input.sk-hidden--visually {border: 0;clip: rect(1px 1px 1px 1px);clip: rect(1px, 1px, 1px, 1px);height: 1px;margin: -1px;overflow: hidden;padding: 0;position: absolute;width: 1px;}#sk-container-id-2 div.sk-estimator {font-family: monospace;background-color: #f0f8ff;border: 1px dotted black;border-radius: 0.25em;box-sizing: border-box;margin-bottom: 0.5em;}#sk-container-id-2 div.sk-estimator:hover {background-color: #d4ebff;}#sk-container-id-2 div.sk-parallel-item::after {content: \"\";width: 100%;border-bottom: 1px solid gray;flex-grow: 1;}#sk-container-id-2 div.sk-label:hover label.sk-toggleable__label {background-color: #d4ebff;}#sk-container-id-2 div.sk-serial::before {content: \"\";position: absolute;border-left: 1px solid gray;box-sizing: border-box;top: 0;bottom: 0;left: 50%;z-index: 0;}#sk-container-id-2 div.sk-serial {display: flex;flex-direction: column;align-items: center;background-color: white;padding-right: 0.2em;padding-left: 0.2em;position: relative;}#sk-container-id-2 div.sk-item {position: relative;z-index: 1;}#sk-container-id-2 div.sk-parallel {display: flex;align-items: stretch;justify-content: center;background-color: white;position: relative;}#sk-container-id-2 div.sk-item::before, #sk-container-id-2 div.sk-parallel-item::before {content: \"\";position: absolute;border-left: 1px solid gray;box-sizing: border-box;top: 0;bottom: 0;left: 50%;z-index: -1;}#sk-container-id-2 div.sk-parallel-item {display: flex;flex-direction: column;z-index: 1;position: relative;background-color: white;}#sk-container-id-2 div.sk-parallel-item:first-child::after {align-self: flex-end;width: 50%;}#sk-container-id-2 div.sk-parallel-item:last-child::after {align-self: flex-start;width: 50%;}#sk-container-id-2 div.sk-parallel-item:only-child::after {width: 0;}#sk-container-id-2 div.sk-dashed-wrapped {border: 1px dashed gray;margin: 0 0.4em 0.5em 0.4em;box-sizing: border-box;padding-bottom: 0.4em;background-color: white;}#sk-container-id-2 div.sk-label label {font-family: monospace;font-weight: bold;display: inline-block;line-height: 1.2em;}#sk-container-id-2 div.sk-label-container {text-align: center;}#sk-container-id-2 div.sk-container {/* jupyter's `normalize.less` sets `[hidden] { display: none; }` but bootstrap.min.css set `[hidden] { display: none !important; }` so we also need the `!important` here to be able to override the default hidden behavior on the sphinx rendered scikit-learn.org. See: https://github.com/scikit-learn/scikit-learn/issues/21755 */display: inline-block !important;position: relative;}#sk-container-id-2 div.sk-text-repr-fallback {display: none;}</style><div id=\"sk-container-id-2\" class=\"sk-top-container\"><div class=\"sk-text-repr-fallback\"><pre>KNeighborsClassifier()</pre><b>In a Jupyter environment, please rerun this cell to show the HTML representation or trust the notebook. <br />On GitHub, the HTML representation is unable to render, please try loading this page with nbviewer.org.</b></div><div class=\"sk-container\" hidden><div class=\"sk-item\"><div class=\"sk-estimator sk-toggleable\"><input class=\"sk-toggleable__control sk-hidden--visually\" id=\"sk-estimator-id-2\" type=\"checkbox\" checked><label for=\"sk-estimator-id-2\" class=\"sk-toggleable__label sk-toggleable__label-arrow\">KNeighborsClassifier</label><div class=\"sk-toggleable__content\"><pre>KNeighborsClassifier()</pre></div></div></div></div></div>"
            ]
          },
          "metadata": {},
          "execution_count": 53
        }
      ]
    },
    {
      "cell_type": "code",
      "source": [
        "y_pred = classifier.predict(x_test)"
      ],
      "metadata": {
        "id": "t0d1-TXcpPNX"
      },
      "execution_count": null,
      "outputs": []
    },
    {
      "cell_type": "code",
      "source": [
        "from sklearn.metrics import confusion_matrix\n",
        "cm = confusion_matrix(y_test, y_pred)\n",
        "\n",
        "print(cm)"
      ],
      "metadata": {
        "colab": {
          "base_uri": "https://localhost:8080/"
        },
        "id": "aBSJsP0lcHoR",
        "outputId": "3c8b596e-08f8-47cd-bbd1-d10e69b5e8a0"
      },
      "execution_count": null,
      "outputs": [
        {
          "output_type": "stream",
          "name": "stdout",
          "text": [
            "[[8 4]\n",
            " [8 9]]\n"
          ]
        }
      ]
    },
    {
      "cell_type": "code",
      "source": [
        "from sklearn.metrics import classification_report\n",
        "akurasi = classification_report(y_test, y_pred)\n",
        "\n",
        "print(akurasi)"
      ],
      "metadata": {
        "colab": {
          "base_uri": "https://localhost:8080/"
        },
        "id": "d1-eCVEmp2T5",
        "outputId": "e995503a-f13b-4fdd-87cd-eeaa9c32d4f0"
      },
      "execution_count": null,
      "outputs": [
        {
          "output_type": "stream",
          "name": "stdout",
          "text": [
            "              precision    recall  f1-score   support\n",
            "\n",
            "           1       0.50      0.67      0.57        12\n",
            "           2       0.69      0.53      0.60        17\n",
            "\n",
            "    accuracy                           0.59        29\n",
            "   macro avg       0.60      0.60      0.59        29\n",
            "weighted avg       0.61      0.59      0.59        29\n",
            "\n"
          ]
        }
      ]
    },
    {
      "cell_type": "code",
      "source": [
        "from sklearn.metrics import accuracy_score\n",
        "akurasi = accuracy_score(y_test, y_pred)\n",
        "\n",
        "print(\"Tingkat akurasi :%d persen\"%(akurasi*100))"
      ],
      "metadata": {
        "colab": {
          "base_uri": "https://localhost:8080/"
        },
        "id": "OQNV7XoqqXSs",
        "outputId": "9864f259-d6e6-4d4b-e133-ad7a778bf28b"
      },
      "execution_count": null,
      "outputs": [
        {
          "output_type": "stream",
          "name": "stdout",
          "text": [
            "Tingkat akurasi :58 persen\n"
          ]
        }
      ]
    },
    {
      "cell_type": "code",
      "source": [
        "from matplotlib.colors import ListedColormap\n",
        "x_set, y_set = x_train, y_train\n",
        "x1, x2 = np.meshgrid(np.arange(start = x_set[:, 0].min()-1, stop = x_set[:, 0].max()+1, step=0.01),\n",
        "                     np.arange(start = x_set[:, 1].min()-1, stop = x_set[:, 0].max()+1, step=0.01))\n",
        "plt.contourf(x1, x2, classifier.predict(np.array([x1.ravel(), x2.ravel()]).T).reshape(x1.shape), alpha =0.75, cmap = ListedColormap (('red', 'green')))\n",
        "plt.xlim(x1.min(), x1.max())\n",
        "plt.ylim(x2.min(), x2.max())\n",
        "for i, j in enumerate (np.unique(y_set)):\n",
        "  plt.scatter(x_set[y_set == j, 0], x_set[y_set == j, 1], c = ListedColormap(('red', 'green'))(i), label = j)\n",
        "  plt.title('Klasifikasi Data dengan Naive Bayes')\n",
        "  plt.xlabel('Resistin')\n",
        "  plt.ylabel('MCP.1')\n",
        "  plt.legend()\n",
        "  plt.show()"
      ],
      "metadata": {
        "colab": {
          "base_uri": "https://localhost:8080/",
          "height": 983
        },
        "id": "2raJ1vxQduG5",
        "outputId": "f6f39d29-b7b0-450a-8cca-572f58f4d411"
      },
      "execution_count": null,
      "outputs": [
        {
          "output_type": "stream",
          "name": "stderr",
          "text": [
            "<ipython-input-58-cf1b1de77b29>:9: UserWarning: *c* argument looks like a single numeric RGB or RGBA sequence, which should be avoided as value-mapping will have precedence in case its length matches with *x* & *y*.  Please use the *color* keyword-argument or provide a 2D array with a single row if you intend to specify the same RGB or RGBA value for all points.\n",
            "  plt.scatter(x_set[y_set == j, 0], x_set[y_set == j, 1], c = ListedColormap(('red', 'green'))(i), label = j)\n"
          ]
        },
        {
          "output_type": "display_data",
          "data": {
            "text/plain": [
              "<Figure size 640x480 with 1 Axes>"
            ],
            "image/png": "[encoded data removed]"
          },
          "metadata": {}
        },
        {
          "output_type": "display_data",
          "data": {
            "text/plain": [
              "<Figure size 640x480 with 1 Axes>"
            ],
            "image/png": "[encoded data removed]"
          },
          "metadata": {}
        }
      ]
    },
    {
      "cell_type": "code",
      "source": [],
      "metadata": {
        "id": "I410AeLRceg1"
      },
      "execution_count": null,
      "outputs": []
    }
  ]
}