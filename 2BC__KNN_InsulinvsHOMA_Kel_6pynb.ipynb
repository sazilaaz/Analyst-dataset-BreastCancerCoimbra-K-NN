{
  "nbformat": 4,
  "nbformat_minor": 0,
  "metadata": {
    "colab": {
      "provenance": [],
      "gpuType": "T4"
    },
    "kernelspec": {
      "name": "python3",
      "display_name": "Python 3"
    },
    "language_info": {
      "name": "python"
    }
  },
  "cells": [
    {
      "cell_type": "code",
      "execution_count": null,
      "metadata": {
        "id": "LJ9tgW-i9ETe"
      },
      "outputs": [],
      "source": [
        "import pandas as pd\n",
        "import matplotlib.pyplot as plt\n",
        "import seaborn as sns\n",
        "import scipy.stats as scp\n",
        "import numpy as np\n"
      ]
    },
    {
      "cell_type": "code",
      "source": [
        "path_dataset = ('/content/BreastCancerCoimbra.csv')"
      ],
      "metadata": {
        "id": "DQyAIazr-9SO"
      },
      "execution_count": null,
      "outputs": []
    },
    {
      "cell_type": "code",
      "source": [
        "bc = pd.read_csv(path_dataset)"
      ],
      "metadata": {
        "id": "yRe-Q7LWFPmk"
      },
      "execution_count": null,
      "outputs": []
    },
    {
      "cell_type": "code",
      "source": [
        "print('data: ', bc.shape)"
      ],
      "metadata": {
        "colab": {
          "base_uri": "https://localhost:8080/"
        },
        "id": "a1jF95s7FZHP",
        "outputId": "717a5819-2f57-4c30-d067-36eb0ca02e9a"
      },
      "execution_count": null,
      "outputs": [
        {
          "output_type": "stream",
          "name": "stdout",
          "text": [
            "data:  (116, 10)\n"
          ]
        }
      ]
    },
    {
      "cell_type": "code",
      "source": [
        "bc.info()"
      ],
      "metadata": {
        "colab": {
          "base_uri": "https://localhost:8080/"
        },
        "id": "7BWGW-5yFiQX",
        "outputId": "6ec4d6fb-9886-4e2f-f999-a598a88a6bea"
      },
      "execution_count": null,
      "outputs": [
        {
          "output_type": "stream",
          "name": "stdout",
          "text": [
            "<class 'pandas.core.frame.DataFrame'>\n",
            "RangeIndex: 116 entries, 0 to 115\n",
            "Data columns (total 10 columns):\n",
            " #   Column       Non-Null Count  Dtype  \n",
            "---  ------       --------------  -----  \n",
            " 0   AGE          116 non-null    int64  \n",
            " 1   BMI          116 non-null    float64\n",
            " 2   GLUCOSE      116 non-null    int64  \n",
            " 3   INSULIN      116 non-null    float64\n",
            " 4   HOMA         116 non-null    float64\n",
            " 5   LEPTIN       116 non-null    float64\n",
            " 6   ADIPONECTIN  116 non-null    float64\n",
            " 7   RESISTIN     116 non-null    float64\n",
            " 8   MCP.1        116 non-null    float64\n",
            " 9   CLASS        116 non-null    int64  \n",
            "dtypes: float64(7), int64(3)\n",
            "memory usage: 9.2 KB\n"
          ]
        }
      ]
    },
    {
      "cell_type": "code",
      "source": [
        "bc.head()"
      ],
      "metadata": {
        "colab": {
          "base_uri": "https://localhost:8080/",
          "height": 206
        },
        "id": "PcGKsVrlFmOT",
        "outputId": "05595332-20e0-4b68-d5da-918f6b1648e9"
      },
      "execution_count": null,
      "outputs": [
        {
          "output_type": "execute_result",
          "data": {
            "text/plain": [
              "   AGE        BMI  GLUCOSE  INSULIN      HOMA   LEPTIN  ADIPONECTIN  RESISTIN  \\\n",
              "0   48  23.500000       70    2.707  0.467409   8.8071     9.702400   7.99585   \n",
              "1   83  20.690495       92    3.115  0.706897   8.8438     5.429285   4.06405   \n",
              "2   82  23.124670       91    4.498  1.009651  17.9393    22.432040   9.27715   \n",
              "3   68  21.367521       77    3.226  0.612725   9.8827     7.169560  12.76600   \n",
              "4   86  21.111111       92    3.549  0.805386   6.6994     4.819240  10.57635   \n",
              "\n",
              "     MCP.1  CLASS  \n",
              "0  417.114      1  \n",
              "1  468.786      1  \n",
              "2  554.697      1  \n",
              "3  928.220      1  \n",
              "4  773.920      1  "
            ],
            "text/html": [
              "\n",
              "  <div id=\"df-b5761f4c-a50d-4c05-b211-63f86c55a44d\">\n",
              "    <div class=\"colab-df-container\">\n",
              "      <div>\n",
              "<style scoped>\n",
              "    .dataframe tbody tr th:only-of-type {\n",
              "        vertical-align: middle;\n",
              "    }\n",
              "\n",
              "    .dataframe tbody tr th {\n",
              "        vertical-align: top;\n",
              "    }\n",
              "\n",
              "    .dataframe thead th {\n",
              "        text-align: right;\n",
              "    }\n",
              "</style>\n",
              "<table border=\"1\" class=\"dataframe\">\n",
              "  <thead>\n",
              "    <tr style=\"text-align: right;\">\n",
              "      <th></th>\n",
              "      <th>AGE</th>\n",
              "      <th>BMI</th>\n",
              "      <th>GLUCOSE</th>\n",
              "      <th>INSULIN</th>\n",
              "      <th>HOMA</th>\n",
              "      <th>LEPTIN</th>\n",
              "      <th>ADIPONECTIN</th>\n",
              "      <th>RESISTIN</th>\n",
              "      <th>MCP.1</th>\n",
              "      <th>CLASS</th>\n",
              "    </tr>\n",
              "  </thead>\n",
              "  <tbody>\n",
              "    <tr>\n",
              "      <th>0</th>\n",
              "      <td>48</td>\n",
              "      <td>23.500000</td>\n",
              "      <td>70</td>\n",
              "      <td>2.707</td>\n",
              "      <td>0.467409</td>\n",
              "      <td>8.8071</td>\n",
              "      <td>9.702400</td>\n",
              "      <td>7.99585</td>\n",
              "      <td>417.114</td>\n",
              "      <td>1</td>\n",
              "    </tr>\n",
              "    <tr>\n",
              "      <th>1</th>\n",
              "      <td>83</td>\n",
              "      <td>20.690495</td>\n",
              "      <td>92</td>\n",
              "      <td>3.115</td>\n",
              "      <td>0.706897</td>\n",
              "      <td>8.8438</td>\n",
              "      <td>5.429285</td>\n",
              "      <td>4.06405</td>\n",
              "      <td>468.786</td>\n",
              "      <td>1</td>\n",
              "    </tr>\n",
              "    <tr>\n",
              "      <th>2</th>\n",
              "      <td>82</td>\n",
              "      <td>23.124670</td>\n",
              "      <td>91</td>\n",
              "      <td>4.498</td>\n",
              "      <td>1.009651</td>\n",
              "      <td>17.9393</td>\n",
              "      <td>22.432040</td>\n",
              "      <td>9.27715</td>\n",
              "      <td>554.697</td>\n",
              "      <td>1</td>\n",
              "    </tr>\n",
              "    <tr>\n",
              "      <th>3</th>\n",
              "      <td>68</td>\n",
              "      <td>21.367521</td>\n",
              "      <td>77</td>\n",
              "      <td>3.226</td>\n",
              "      <td>0.612725</td>\n",
              "      <td>9.8827</td>\n",
              "      <td>7.169560</td>\n",
              "      <td>12.76600</td>\n",
              "      <td>928.220</td>\n",
              "      <td>1</td>\n",
              "    </tr>\n",
              "    <tr>\n",
              "      <th>4</th>\n",
              "      <td>86</td>\n",
              "      <td>21.111111</td>\n",
              "      <td>92</td>\n",
              "      <td>3.549</td>\n",
              "      <td>0.805386</td>\n",
              "      <td>6.6994</td>\n",
              "      <td>4.819240</td>\n",
              "      <td>10.57635</td>\n",
              "      <td>773.920</td>\n",
              "      <td>1</td>\n",
              "    </tr>\n",
              "  </tbody>\n",
              "</table>\n",
              "</div>\n",
              "      <button class=\"colab-df-convert\" onclick=\"convertToInteractive('df-b5761f4c-a50d-4c05-b211-63f86c55a44d')\"\n",
              "              title=\"Convert this dataframe to an interactive table.\"\n",
              "              style=\"display:none;\">\n",
              "        \n",
              "  <svg xmlns=\"http://www.w3.org/2000/svg\" height=\"24px\"viewBox=\"0 0 24 24\"\n",
              "       width=\"24px\">\n",
              "    <path d=\"M0 0h24v24H0V0z\" fill=\"none\"/>\n",
              "    <path d=\"M18.56 5.44l.94 2.06.94-2.06 2.06-.94-2.06-.94-.94-2.06-.94 2.06-2.06.94zm-11 1L8.5 8.5l.94-2.06 2.06-.94-2.06-.94L8.5 2.5l-.94 2.06-2.06.94zm10 10l.94 2.06.94-2.06 2.06-.94-2.06-.94-.94-2.06-.94 2.06-2.06.94z\"/><path d=\"M17.41 7.96l-1.37-1.37c-.4-.4-.92-.59-1.43-.59-.52 0-1.04.2-1.43.59L10.3 9.45l-7.72 7.72c-.78.78-.78 2.05 0 2.83L4 21.41c.39.39.9.59 1.41.59.51 0 1.02-.2 1.41-.59l7.78-7.78 2.81-2.81c.8-.78.8-2.07 0-2.86zM5.41 20L4 18.59l7.72-7.72 1.47 1.35L5.41 20z\"/>\n",
              "  </svg>\n",
              "      </button>\n",
              "      \n",
              "  <style>\n",
              "    .colab-df-container {\n",
              "      display:flex;\n",
              "      flex-wrap:wrap;\n",
              "      gap: 12px;\n",
              "    }\n",
              "\n",
              "    .colab-df-convert {\n",
              "      background-color: #E8F0FE;\n",
              "      border: none;\n",
              "      border-radius: 50%;\n",
              "      cursor: pointer;\n",
              "      display: none;\n",
              "      fill: #1967D2;\n",
              "      height: 32px;\n",
              "      padding: 0 0 0 0;\n",
              "      width: 32px;\n",
              "    }\n",
              "\n",
              "    .colab-df-convert:hover {\n",
              "      background-color: #E2EBFA;\n",
              "      box-shadow: 0px 1px 2px rgba(60, 64, 67, 0.3), 0px 1px 3px 1px rgba(60, 64, 67, 0.15);\n",
              "      fill: #174EA6;\n",
              "    }\n",
              "\n",
              "    [theme=dark] .colab-df-convert {\n",
              "      background-color: #3B4455;\n",
              "      fill: #D2E3FC;\n",
              "    }\n",
              "\n",
              "    [theme=dark] .colab-df-convert:hover {\n",
              "      background-color: #434B5C;\n",
              "      box-shadow: 0px 1px 3px 1px rgba(0, 0, 0, 0.15);\n",
              "      filter: drop-shadow(0px 1px 2px rgba(0, 0, 0, 0.3));\n",
              "      fill: #FFFFFF;\n",
              "    }\n",
              "  </style>\n",
              "\n",
              "      <script>\n",
              "        const buttonEl =\n",
              "          document.querySelector('#df-b5761f4c-a50d-4c05-b211-63f86c55a44d button.colab-df-convert');\n",
              "        buttonEl.style.display =\n",
              "          google.colab.kernel.accessAllowed ? 'block' : 'none';\n",
              "\n",
              "        async function convertToInteractive(key) {\n",
              "          const element = document.querySelector('#df-b5761f4c-a50d-4c05-b211-63f86c55a44d');\n",
              "          const dataTable =\n",
              "            await google.colab.kernel.invokeFunction('convertToInteractive',\n",
              "                                                     [key], {});\n",
              "          if (!dataTable) return;\n",
              "\n",
              "          const docLinkHtml = 'Like what you see? Visit the ' +\n",
              "            '<a target=\"_blank\" href=https://colab.research.google.com/notebooks/data_table.ipynb>data table notebook</a>'\n",
              "            + ' to learn more about interactive tables.';\n",
              "          element.innerHTML = '';\n",
              "          dataTable['output_type'] = 'display_data';\n",
              "          await google.colab.output.renderOutput(dataTable, element);\n",
              "          const docLink = document.createElement('div');\n",
              "          docLink.innerHTML = docLinkHtml;\n",
              "          element.appendChild(docLink);\n",
              "        }\n",
              "      </script>\n",
              "    </div>\n",
              "  </div>\n",
              "  "
            ]
          },
          "metadata": {},
          "execution_count": 6
        }
      ]
    },
    {
      "cell_type": "code",
      "source": [
        "bc.describe()"
      ],
      "metadata": {
        "colab": {
          "base_uri": "https://localhost:8080/",
          "height": 364
        },
        "id": "Uo9Ov_lRFwIU",
        "outputId": "f8e3c3c9-4425-4fe3-98c7-c91d09b3e3cc"
      },
      "execution_count": null,
      "outputs": [
        {
          "output_type": "execute_result",
          "data": {
            "text/plain": [
              "              AGE         BMI     GLUCOSE     INSULIN        HOMA      LEPTIN  \\\n",
              "count  116.000000  116.000000  116.000000  116.000000  116.000000  116.000000   \n",
              "mean    57.301724   27.582111   97.793103   10.012086    2.694988   26.615080   \n",
              "std     16.112766    5.020136   22.525162   10.067768    3.642043   19.183294   \n",
              "min     24.000000   18.370000   60.000000    2.432000    0.467409    4.311000   \n",
              "25%     45.000000   22.973205   85.750000    4.359250    0.917966   12.313675   \n",
              "50%     56.000000   27.662416   92.000000    5.924500    1.380939   20.271000   \n",
              "75%     71.000000   31.241442  102.000000   11.189250    2.857787   37.378300   \n",
              "max     89.000000   38.578759  201.000000   58.460000   25.050342   90.280000   \n",
              "\n",
              "       ADIPONECTIN    RESISTIN        MCP.1       CLASS  \n",
              "count   116.000000  116.000000   116.000000  116.000000  \n",
              "mean     10.180874   14.725966   534.647000    1.551724  \n",
              "std       6.843341   12.390646   345.912663    0.499475  \n",
              "min       1.656020    3.210000    45.843000    1.000000  \n",
              "25%       5.474283    6.881763   269.978250    1.000000  \n",
              "50%       8.352692   10.827740   471.322500    2.000000  \n",
              "75%      11.815970   17.755207   700.085000    2.000000  \n",
              "max      38.040000   82.100000  1698.440000    2.000000  "
            ],
            "text/html": [
              "\n",
              "  <div id=\"df-297368a7-f868-4759-93ed-db7900e6b51f\">\n",
              "    <div class=\"colab-df-container\">\n",
              "      <div>\n",
              "<style scoped>\n",
              "    .dataframe tbody tr th:only-of-type {\n",
              "        vertical-align: middle;\n",
              "    }\n",
              "\n",
              "    .dataframe tbody tr th {\n",
              "        vertical-align: top;\n",
              "    }\n",
              "\n",
              "    .dataframe thead th {\n",
              "        text-align: right;\n",
              "    }\n",
              "</style>\n",
              "<table border=\"1\" class=\"dataframe\">\n",
              "  <thead>\n",
              "    <tr style=\"text-align: right;\">\n",
              "      <th></th>\n",
              "      <th>AGE</th>\n",
              "      <th>BMI</th>\n",
              "      <th>GLUCOSE</th>\n",
              "      <th>INSULIN</th>\n",
              "      <th>HOMA</th>\n",
              "      <th>LEPTIN</th>\n",
              "      <th>ADIPONECTIN</th>\n",
              "      <th>RESISTIN</th>\n",
              "      <th>MCP.1</th>\n",
              "      <th>CLASS</th>\n",
              "    </tr>\n",
              "  </thead>\n",
              "  <tbody>\n",
              "    <tr>\n",
              "      <th>count</th>\n",
              "      <td>116.000000</td>\n",
              "      <td>116.000000</td>\n",
              "      <td>116.000000</td>\n",
              "      <td>116.000000</td>\n",
              "      <td>116.000000</td>\n",
              "      <td>116.000000</td>\n",
              "      <td>116.000000</td>\n",
              "      <td>116.000000</td>\n",
              "      <td>116.000000</td>\n",
              "      <td>116.000000</td>\n",
              "    </tr>\n",
              "    <tr>\n",
              "      <th>mean</th>\n",
              "      <td>57.301724</td>\n",
              "      <td>27.582111</td>\n",
              "      <td>97.793103</td>\n",
              "      <td>10.012086</td>\n",
              "      <td>2.694988</td>\n",
              "      <td>26.615080</td>\n",
              "      <td>10.180874</td>\n",
              "      <td>14.725966</td>\n",
              "      <td>534.647000</td>\n",
              "      <td>1.551724</td>\n",
              "    </tr>\n",
              "    <tr>\n",
              "      <th>std</th>\n",
              "      <td>16.112766</td>\n",
              "      <td>5.020136</td>\n",
              "      <td>22.525162</td>\n",
              "      <td>10.067768</td>\n",
              "      <td>3.642043</td>\n",
              "      <td>19.183294</td>\n",
              "      <td>6.843341</td>\n",
              "      <td>12.390646</td>\n",
              "      <td>345.912663</td>\n",
              "      <td>0.499475</td>\n",
              "    </tr>\n",
              "    <tr>\n",
              "      <th>min</th>\n",
              "      <td>24.000000</td>\n",
              "      <td>18.370000</td>\n",
              "      <td>60.000000</td>\n",
              "      <td>2.432000</td>\n",
              "      <td>0.467409</td>\n",
              "      <td>4.311000</td>\n",
              "      <td>1.656020</td>\n",
              "      <td>3.210000</td>\n",
              "      <td>45.843000</td>\n",
              "      <td>1.000000</td>\n",
              "    </tr>\n",
              "    <tr>\n",
              "      <th>25%</th>\n",
              "      <td>45.000000</td>\n",
              "      <td>22.973205</td>\n",
              "      <td>85.750000</td>\n",
              "      <td>4.359250</td>\n",
              "      <td>0.917966</td>\n",
              "      <td>12.313675</td>\n",
              "      <td>5.474283</td>\n",
              "      <td>6.881763</td>\n",
              "      <td>269.978250</td>\n",
              "      <td>1.000000</td>\n",
              "    </tr>\n",
              "    <tr>\n",
              "      <th>50%</th>\n",
              "      <td>56.000000</td>\n",
              "      <td>27.662416</td>\n",
              "      <td>92.000000</td>\n",
              "      <td>5.924500</td>\n",
              "      <td>1.380939</td>\n",
              "      <td>20.271000</td>\n",
              "      <td>8.352692</td>\n",
              "      <td>10.827740</td>\n",
              "      <td>471.322500</td>\n",
              "      <td>2.000000</td>\n",
              "    </tr>\n",
              "    <tr>\n",
              "      <th>75%</th>\n",
              "      <td>71.000000</td>\n",
              "      <td>31.241442</td>\n",
              "      <td>102.000000</td>\n",
              "      <td>11.189250</td>\n",
              "      <td>2.857787</td>\n",
              "      <td>37.378300</td>\n",
              "      <td>11.815970</td>\n",
              "      <td>17.755207</td>\n",
              "      <td>700.085000</td>\n",
              "      <td>2.000000</td>\n",
              "    </tr>\n",
              "    <tr>\n",
              "      <th>max</th>\n",
              "      <td>89.000000</td>\n",
              "      <td>38.578759</td>\n",
              "      <td>201.000000</td>\n",
              "      <td>58.460000</td>\n",
              "      <td>25.050342</td>\n",
              "      <td>90.280000</td>\n",
              "      <td>38.040000</td>\n",
              "      <td>82.100000</td>\n",
              "      <td>1698.440000</td>\n",
              "      <td>2.000000</td>\n",
              "    </tr>\n",
              "  </tbody>\n",
              "</table>\n",
              "</div>\n",
              "      <button class=\"colab-df-convert\" onclick=\"convertToInteractive('df-297368a7-f868-4759-93ed-db7900e6b51f')\"\n",
              "              title=\"Convert this dataframe to an interactive table.\"\n",
              "              style=\"display:none;\">\n",
              "        \n",
              "  <svg xmlns=\"http://www.w3.org/2000/svg\" height=\"24px\"viewBox=\"0 0 24 24\"\n",
              "       width=\"24px\">\n",
              "    <path d=\"M0 0h24v24H0V0z\" fill=\"none\"/>\n",
              "    <path d=\"M18.56 5.44l.94 2.06.94-2.06 2.06-.94-2.06-.94-.94-2.06-.94 2.06-2.06.94zm-11 1L8.5 8.5l.94-2.06 2.06-.94-2.06-.94L8.5 2.5l-.94 2.06-2.06.94zm10 10l.94 2.06.94-2.06 2.06-.94-2.06-.94-.94-2.06-.94 2.06-2.06.94z\"/><path d=\"M17.41 7.96l-1.37-1.37c-.4-.4-.92-.59-1.43-.59-.52 0-1.04.2-1.43.59L10.3 9.45l-7.72 7.72c-.78.78-.78 2.05 0 2.83L4 21.41c.39.39.9.59 1.41.59.51 0 1.02-.2 1.41-.59l7.78-7.78 2.81-2.81c.8-.78.8-2.07 0-2.86zM5.41 20L4 18.59l7.72-7.72 1.47 1.35L5.41 20z\"/>\n",
              "  </svg>\n",
              "      </button>\n",
              "      \n",
              "  <style>\n",
              "    .colab-df-container {\n",
              "      display:flex;\n",
              "      flex-wrap:wrap;\n",
              "      gap: 12px;\n",
              "    }\n",
              "\n",
              "    .colab-df-convert {\n",
              "      background-color: #E8F0FE;\n",
              "      border: none;\n",
              "      border-radius: 50%;\n",
              "      cursor: pointer;\n",
              "      display: none;\n",
              "      fill: #1967D2;\n",
              "      height: 32px;\n",
              "      padding: 0 0 0 0;\n",
              "      width: 32px;\n",
              "    }\n",
              "\n",
              "    .colab-df-convert:hover {\n",
              "      background-color: #E2EBFA;\n",
              "      box-shadow: 0px 1px 2px rgba(60, 64, 67, 0.3), 0px 1px 3px 1px rgba(60, 64, 67, 0.15);\n",
              "      fill: #174EA6;\n",
              "    }\n",
              "\n",
              "    [theme=dark] .colab-df-convert {\n",
              "      background-color: #3B4455;\n",
              "      fill: #D2E3FC;\n",
              "    }\n",
              "\n",
              "    [theme=dark] .colab-df-convert:hover {\n",
              "      background-color: #434B5C;\n",
              "      box-shadow: 0px 1px 3px 1px rgba(0, 0, 0, 0.15);\n",
              "      filter: drop-shadow(0px 1px 2px rgba(0, 0, 0, 0.3));\n",
              "      fill: #FFFFFF;\n",
              "    }\n",
              "  </style>\n",
              "\n",
              "      <script>\n",
              "        const buttonEl =\n",
              "          document.querySelector('#df-297368a7-f868-4759-93ed-db7900e6b51f button.colab-df-convert');\n",
              "        buttonEl.style.display =\n",
              "          google.colab.kernel.accessAllowed ? 'block' : 'none';\n",
              "\n",
              "        async function convertToInteractive(key) {\n",
              "          const element = document.querySelector('#df-297368a7-f868-4759-93ed-db7900e6b51f');\n",
              "          const dataTable =\n",
              "            await google.colab.kernel.invokeFunction('convertToInteractive',\n",
              "                                                     [key], {});\n",
              "          if (!dataTable) return;\n",
              "\n",
              "          const docLinkHtml = 'Like what you see? Visit the ' +\n",
              "            '<a target=\"_blank\" href=https://colab.research.google.com/notebooks/data_table.ipynb>data table notebook</a>'\n",
              "            + ' to learn more about interactive tables.';\n",
              "          element.innerHTML = '';\n",
              "          dataTable['output_type'] = 'display_data';\n",
              "          await google.colab.output.renderOutput(dataTable, element);\n",
              "          const docLink = document.createElement('div');\n",
              "          docLink.innerHTML = docLinkHtml;\n",
              "          element.appendChild(docLink);\n",
              "        }\n",
              "      </script>\n",
              "    </div>\n",
              "  </div>\n",
              "  "
            ]
          },
          "metadata": {},
          "execution_count": 7
        }
      ]
    },
    {
      "cell_type": "code",
      "source": [
        "x = bc.iloc[:, [3,4]].values\n",
        "y = bc.iloc[:, -1].values"
      ],
      "metadata": {
        "id": "fFMbkxCck3ZY"
      },
      "execution_count": null,
      "outputs": []
    },
    {
      "cell_type": "code",
      "source": [
        "print(y)"
      ],
      "metadata": {
        "colab": {
          "base_uri": "https://localhost:8080/"
        },
        "id": "XDqfjqbmlH0F",
        "outputId": "2c0fa5ef-220a-41e9-e2fe-a4afed7b9c74"
      },
      "execution_count": null,
      "outputs": [
        {
          "output_type": "stream",
          "name": "stdout",
          "text": [
            "[1 1 1 1 1 1 1 1 1 1 1 1 1 1 1 1 1 1 1 1 1 1 1 1 1 1 1 1 1 1 1 1 1 1 1 1 1\n",
            " 1 1 1 1 1 1 1 1 1 1 1 1 1 1 1 2 2 2 2 2 2 2 2 2 2 2 2 2 2 2 2 2 2 2 2 2 2\n",
            " 2 2 2 2 2 2 2 2 2 2 2 2 2 2 2 2 2 2 2 2 2 2 2 2 2 2 2 2 2 2 2 2 2 2 2 2 2\n",
            " 2 2 2 2 2]\n"
          ]
        }
      ]
    },
    {
      "cell_type": "code",
      "source": [
        "print(x)"
      ],
      "metadata": {
        "colab": {
          "base_uri": "https://localhost:8080/"
        },
        "id": "NrIarnmfmrwd",
        "outputId": "7759ebb6-12e4-4282-fde0-e3509ea8eb18"
      },
      "execution_count": null,
      "outputs": [
        {
          "output_type": "stream",
          "name": "stdout",
          "text": [
            "[[ 2.707       0.46740867]\n",
            " [ 3.115       0.70689733]\n",
            " [ 4.498       1.00965107]\n",
            " [ 3.226       0.61272493]\n",
            " [ 3.549       0.8053864 ]\n",
            " [ 3.226       0.73208693]\n",
            " [ 4.69        0.89078733]\n",
            " [ 6.47        1.88320133]\n",
            " [ 3.35        0.80154333]\n",
            " [ 4.952       1.01383947]\n",
            " [ 3.469       0.6674356 ]\n",
            " [ 5.663       1.14543613]\n",
            " [ 4.09        0.82727067]\n",
            " [ 6.107       1.33      ]\n",
            " [ 5.782       1.06967   ]\n",
            " [ 7.553       1.6       ]\n",
            " [ 2.869       0.59      ]\n",
            " [18.077       3.79014433]\n",
            " [ 4.427       1.03739367]\n",
            " [14.026       3.0099796 ]\n",
            " [ 4.345       0.92171933]\n",
            " [ 4.53        0.972138  ]\n",
            " [ 5.81        1.203832  ]\n",
            " [ 4.376       0.9067072 ]\n",
            " [ 5.537       1.229214  ]\n",
            " [ 6.76        1.38399733]\n",
            " [ 6.703       1.75261107]\n",
            " [ 9.245       2.05239   ]\n",
            " [ 6.817       1.513374  ]\n",
            " [ 6.59        1.30042667]\n",
            " [15.533       3.86978807]\n",
            " [10.175       2.53493167]\n",
            " [ 8.576       1.8404096 ]\n",
            " [23.194       5.09185613]\n",
            " [ 3.855       0.732193  ]\n",
            " [ 5.819       1.13392913]\n",
            " [ 4.181       0.84567693]\n",
            " [ 5.646       1.4066068 ]\n",
            " [ 5.138       1.30539453]\n",
            " [ 3.881       0.72755813]\n",
            " [ 5.376       1.1006464 ]\n",
            " [14.07        3.262364  ]\n",
            " [ 5.197       1.08963767]\n",
            " [ 5.43        1.245642  ]\n",
            " [ 8.34        2.098344  ]\n",
            " [ 6.042       1.341324  ]\n",
            " [ 8.079       1.8732508 ]\n",
            " [ 3.508       0.519184  ]\n",
            " [10.704       2.3498848 ]\n",
            " [ 4.462       1.0566016 ]\n",
            " [26.211       7.111918  ]\n",
            " [ 4.58        0.96027333]\n",
            " [13.852       3.4851632 ]\n",
            " [ 4.56        0.832352  ]\n",
            " [12.305       2.85311933]\n",
            " [21.699       4.9242264 ]\n",
            " [ 2.999       0.6879706 ]\n",
            " [ 6.2         1.55992   ]\n",
            " [ 4.364       1.0011016 ]\n",
            " [ 3.482       0.79018187]\n",
            " [ 5.261       1.23282767]\n",
            " [ 6.683       1.84629013]\n",
            " [ 2.64        0.507936  ]\n",
            " [ 2.74        0.69614267]\n",
            " [ 6.862       1.65877413]\n",
            " [ 4.902       1.4026256 ]\n",
            " [ 3.73        0.79125733]\n",
            " [ 5.7         1.37788   ]\n",
            " [ 3.42        0.742368  ]\n",
            " [15.89        4.468268  ]\n",
            " [ 3.44        0.78065067]\n",
            " [58.46       15.28534133]\n",
            " [ 6.03        1.56177   ]\n",
            " [ 4.42        1.14478   ]\n",
            " [36.94        7.83620533]\n",
            " [10.555       2.62960233]\n",
            " [16.635       3.775036  ]\n",
            " [ 4.328       1.09960053]\n",
            " [41.611      20.6307338 ]\n",
            " [22.033       5.27176247]\n",
            " [ 3.188       0.60550747]\n",
            " [ 9.669       2.38502   ]\n",
            " [28.677       7.0029234 ]\n",
            " [10.395       2.871792  ]\n",
            " [ 4.172       1.00851147]\n",
            " [14.649       3.071407  ]\n",
            " [ 2.54        0.56388   ]\n",
            " [51.814      25.05034187]\n",
            " [12.162       5.9699204 ]\n",
            " [16.582       5.68541507]\n",
            " [41.894      13.22733227]\n",
            " [18.077       4.45899333]\n",
            " [30.212       6.4834952 ]\n",
            " [24.887       8.22598307]\n",
            " [30.13        9.73600733]\n",
            " [ 8.396       1.44970933]\n",
            " [ 9.208       2.2485936 ]\n",
            " [ 2.432       0.61789013]\n",
            " [18.2         4.66890667]\n",
            " [ 8.808       2.3464512 ]\n",
            " [ 3.012       0.6538048 ]\n",
            " [ 6.524       1.43223547]\n",
            " [10.491       2.5101466 ]\n",
            " [10.949       2.24162527]\n",
            " [12.548       2.94041467]\n",
            " [ 5.636       1.86288587]\n",
            " [ 4.713       1.046286  ]\n",
            " [ 5.75        1.30486667]\n",
            " [ 8.15        2.63353667]\n",
            " [ 7.01        2.62828267]\n",
            " [11.91        3.495982  ]\n",
            " [ 3.33        0.755688  ]\n",
            " [ 4.53        1.1174    ]\n",
            " [ 5.73        1.370998  ]\n",
            " [ 2.82        0.570392  ]\n",
            " [19.91        6.777364  ]]\n"
          ]
        }
      ]
    },
    {
      "cell_type": "code",
      "source": [
        "from sklearn.model_selection import train_test_split\n",
        "\n",
        "x_train, x_test, y_train, y_test = train_test_split(x,y, test_size=0.25, random_state=0)"
      ],
      "metadata": {
        "id": "0RNG7W4nmzBq"
      },
      "execution_count": null,
      "outputs": []
    },
    {
      "cell_type": "code",
      "source": [
        "print(x_train)"
      ],
      "metadata": {
        "colab": {
          "base_uri": "https://localhost:8080/"
        },
        "id": "ssRG7ccxnAmZ",
        "outputId": "88665213-72fa-4fdf-860c-bef6cfc6ea6b"
      },
      "execution_count": null,
      "outputs": [
        {
          "output_type": "stream",
          "name": "stdout",
          "text": [
            "[[24.887       8.22598307]\n",
            " [23.194       5.09185613]\n",
            " [ 6.042       1.341324  ]\n",
            " [ 3.226       0.61272493]\n",
            " [10.704       2.3498848 ]\n",
            " [ 4.69        0.89078733]\n",
            " [12.305       2.85311933]\n",
            " [19.91        6.777364  ]\n",
            " [ 8.396       1.44970933]\n",
            " [ 6.524       1.43223547]\n",
            " [ 9.208       2.2485936 ]\n",
            " [18.077       4.45899333]\n",
            " [ 2.74        0.69614267]\n",
            " [ 9.245       2.05239   ]\n",
            " [ 4.427       1.03739367]\n",
            " [ 5.663       1.14543613]\n",
            " [ 3.482       0.79018187]\n",
            " [ 3.42        0.742368  ]\n",
            " [ 6.683       1.84629013]\n",
            " [16.635       3.775036  ]\n",
            " [26.211       7.111918  ]\n",
            " [ 3.115       0.70689733]\n",
            " [12.548       2.94041467]\n",
            " [ 5.197       1.08963767]\n",
            " [14.07        3.262364  ]\n",
            " [ 3.549       0.8053864 ]\n",
            " [ 7.553       1.6       ]\n",
            " [18.077       3.79014433]\n",
            " [13.852       3.4851632 ]\n",
            " [ 5.376       1.1006464 ]\n",
            " [ 5.138       1.30539453]\n",
            " [ 3.226       0.73208693]\n",
            " [ 4.56        0.832352  ]\n",
            " [ 4.713       1.046286  ]\n",
            " [ 8.15        2.63353667]\n",
            " [ 2.707       0.46740867]\n",
            " [ 3.855       0.732193  ]\n",
            " [ 6.817       1.513374  ]\n",
            " [21.699       4.9242264 ]\n",
            " [ 5.819       1.13392913]\n",
            " [ 4.376       0.9067072 ]\n",
            " [10.175       2.53493167]\n",
            " [10.555       2.62960233]\n",
            " [ 6.2         1.55992   ]\n",
            " [16.582       5.68541507]\n",
            " [ 8.808       2.3464512 ]\n",
            " [ 8.576       1.8404096 ]\n",
            " [18.2         4.66890667]\n",
            " [ 5.782       1.06967   ]\n",
            " [14.649       3.071407  ]\n",
            " [14.026       3.0099796 ]\n",
            " [ 6.59        1.30042667]\n",
            " [ 4.462       1.0566016 ]\n",
            " [28.677       7.0029234 ]\n",
            " [ 5.73        1.370998  ]\n",
            " [ 2.82        0.570392  ]\n",
            " [22.033       5.27176247]\n",
            " [15.89        4.468268  ]\n",
            " [ 3.188       0.60550747]\n",
            " [ 4.345       0.92171933]\n",
            " [ 7.01        2.62828267]\n",
            " [ 6.03        1.56177   ]\n",
            " [ 4.328       1.09960053]\n",
            " [ 6.76        1.38399733]\n",
            " [ 5.646       1.4066068 ]\n",
            " [ 9.669       2.38502   ]\n",
            " [10.491       2.5101466 ]\n",
            " [ 8.079       1.8732508 ]\n",
            " [ 5.636       1.86288587]\n",
            " [ 3.881       0.72755813]\n",
            " [ 4.902       1.4026256 ]\n",
            " [ 4.364       1.0011016 ]\n",
            " [ 4.09        0.82727067]\n",
            " [11.91        3.495982  ]\n",
            " [12.162       5.9699204 ]\n",
            " [ 3.44        0.78065067]\n",
            " [51.814      25.05034187]\n",
            " [ 4.181       0.84567693]\n",
            " [ 4.53        0.972138  ]\n",
            " [10.395       2.871792  ]\n",
            " [ 4.952       1.01383947]\n",
            " [10.949       2.24162527]\n",
            " [ 4.53        1.1174    ]\n",
            " [ 5.7         1.37788   ]\n",
            " [ 6.862       1.65877413]\n",
            " [ 3.508       0.519184  ]\n",
            " [ 8.34        2.098344  ]]\n"
          ]
        }
      ]
    },
    {
      "cell_type": "code",
      "source": [
        "print(x_test)"
      ],
      "metadata": {
        "colab": {
          "base_uri": "https://localhost:8080/"
        },
        "id": "Muw-Ilk-nCWn",
        "outputId": "d4036de5-6d0d-4693-d467-45b380be3fb9"
      },
      "execution_count": null,
      "outputs": [
        {
          "output_type": "stream",
          "name": "stdout",
          "text": [
            "[[ 3.469       0.6674356 ]\n",
            " [36.94        7.83620533]\n",
            " [ 3.73        0.79125733]\n",
            " [ 4.58        0.96027333]\n",
            " [ 6.47        1.88320133]\n",
            " [41.611      20.6307338 ]\n",
            " [30.212       6.4834952 ]\n",
            " [41.894      13.22733227]\n",
            " [ 5.75        1.30486667]\n",
            " [ 2.64        0.507936  ]\n",
            " [15.533       3.86978807]\n",
            " [ 4.498       1.00965107]\n",
            " [30.13        9.73600733]\n",
            " [ 5.81        1.203832  ]\n",
            " [ 5.43        1.245642  ]\n",
            " [ 4.172       1.00851147]\n",
            " [ 5.537       1.229214  ]\n",
            " [ 4.42        1.14478   ]\n",
            " [ 5.261       1.23282767]\n",
            " [ 2.999       0.6879706 ]\n",
            " [ 2.869       0.59      ]\n",
            " [ 6.107       1.33      ]\n",
            " [ 6.703       1.75261107]\n",
            " [ 2.54        0.56388   ]\n",
            " [58.46       15.28534133]\n",
            " [ 2.432       0.61789013]\n",
            " [ 3.33        0.755688  ]\n",
            " [ 3.012       0.6538048 ]\n",
            " [ 3.35        0.80154333]]\n"
          ]
        }
      ]
    },
    {
      "cell_type": "code",
      "source": [
        "len(x)"
      ],
      "metadata": {
        "colab": {
          "base_uri": "https://localhost:8080/"
        },
        "id": "ELbvs_7PnFLo",
        "outputId": "4d8dc381-229c-4081-ad72-23300585ab61"
      },
      "execution_count": null,
      "outputs": [
        {
          "output_type": "execute_result",
          "data": {
            "text/plain": [
              "116"
            ]
          },
          "metadata": {},
          "execution_count": 14
        }
      ]
    },
    {
      "cell_type": "code",
      "source": [
        "len(x_train)"
      ],
      "metadata": {
        "colab": {
          "base_uri": "https://localhost:8080/"
        },
        "id": "jMh2fFQFnGeU",
        "outputId": "2c66f80d-8951-41f0-b0d2-53627aea3a5c"
      },
      "execution_count": null,
      "outputs": [
        {
          "output_type": "execute_result",
          "data": {
            "text/plain": [
              "87"
            ]
          },
          "metadata": {},
          "execution_count": 15
        }
      ]
    },
    {
      "cell_type": "code",
      "source": [
        "len(x_test)"
      ],
      "metadata": {
        "colab": {
          "base_uri": "https://localhost:8080/"
        },
        "id": "E53DBoUdnIIs",
        "outputId": "5af64205-48cf-4876-dd4c-f89593e59462"
      },
      "execution_count": null,
      "outputs": [
        {
          "output_type": "execute_result",
          "data": {
            "text/plain": [
              "29"
            ]
          },
          "metadata": {},
          "execution_count": 16
        }
      ]
    },
    {
      "cell_type": "code",
      "source": [
        "from sklearn.preprocessing import StandardScaler\n",
        "sc = StandardScaler()\n",
        "x_train = sc.fit_transform(x_train)\n",
        "x_test = sc.transform(x_test)"
      ],
      "metadata": {
        "id": "uwIAY9ocnJlU"
      },
      "execution_count": null,
      "outputs": []
    },
    {
      "cell_type": "code",
      "source": [
        "print(x_train)"
      ],
      "metadata": {
        "colab": {
          "base_uri": "https://localhost:8080/"
        },
        "id": "dLPZcAwznOhO",
        "outputId": "d12b70f2-8654-480e-edde-4fa753c80d87"
      },
      "execution_count": null,
      "outputs": [
        {
          "output_type": "stream",
          "name": "stdout",
          "text": [
            "[[ 2.06618785  1.93831368]\n",
            " [ 1.84136642  0.88560129]\n",
            " [-0.43632828 -0.37415356]\n",
            " [-0.81027816 -0.61888049]\n",
            " [ 0.18276061 -0.03539114]\n",
            " [-0.61586671 -0.52548296]\n",
            " [ 0.39536493  0.13363878]\n",
            " [ 1.40526863  1.45174142]\n",
            " [-0.12372955 -0.33774834]\n",
            " [-0.37232123 -0.34361759]\n",
            " [-0.01590026 -0.06941353]\n",
            " [ 1.16185594  0.67303093]\n",
            " [-0.87481638 -0.59086156]\n",
            " [-0.01098685 -0.13531576]\n",
            " [-0.65079172 -0.4762398 ]\n",
            " [-0.48665747 -0.43994974]\n",
            " [-0.77628271 -0.55927502]\n",
            " [-0.78451598 -0.57533508]\n",
            " [-0.35120688 -0.20454202]\n",
            " [ 0.97036598  0.44329858]\n",
            " [ 2.24200804  1.56411374]\n",
            " [-0.82501837 -0.58724921]\n",
            " [ 0.42763404  0.16296015]\n",
            " [-0.5485398  -0.45869172]\n",
            " [ 0.62974758  0.27109873]\n",
            " [-0.76738547 -0.55416802]\n",
            " [-0.23567549 -0.28726767]\n",
            " [ 1.16185594  0.44837327]\n",
            " [ 0.60079833  0.34593408]\n",
            " [-0.52476955 -0.45499403]\n",
            " [-0.55637469 -0.3862218 ]\n",
            " [-0.81027816 -0.57878835]\n",
            " [-0.63313003 -0.54511062]\n",
            " [-0.61281244 -0.47325298]\n",
            " [-0.15639705  0.05988383]\n",
            " [-0.87919861 -0.66769033]\n",
            " [-0.72675029 -0.57875273]\n",
            " [-0.33341239 -0.31636421]\n",
            " [ 1.64283835  0.82929665]\n",
            " [-0.4659415  -0.44381479]\n",
            " [-0.65756425 -0.52013568]\n",
            " [ 0.11251222  0.02676369]\n",
            " [ 0.1629742   0.05856234]\n",
            " [-0.41534672 -0.30073002]\n",
            " [ 0.96332786  1.08497   ]\n",
            " [-0.06901814 -0.03654444]\n",
            " [-0.09982651 -0.20651721]\n",
            " [ 1.17818969  0.74353808]\n",
            " [-0.4708549  -0.4653986 ]\n",
            " [ 0.70663571  0.20695877]\n",
            " [ 0.62390461  0.1863261 ]\n",
            " [-0.36355678 -0.38789044]\n",
            " [-0.64614391 -0.46978811]\n",
            " [ 2.56947977  1.52750388]\n",
            " [-0.47776023 -0.36418645]\n",
            " [-0.8641928  -0.63309957]\n",
            " [ 1.68719178  0.94602949]\n",
            " [ 0.87143393  0.67614617]\n",
            " [-0.81532435 -0.62130474]\n",
            " [-0.66168089 -0.5150933 ]\n",
            " [-0.30778301  0.05811908]\n",
            " [-0.43792182 -0.30010862]\n",
            " [-0.6639384  -0.45534532]\n",
            " [-0.34098168 -0.35982015]\n",
            " [-0.48891498 -0.35222592]\n",
            " [ 0.0453181  -0.02358968]\n",
            " [ 0.15447534  0.01843871]\n",
            " [-0.16582547 -0.19548628]\n",
            " [-0.49024293 -0.19896773]\n",
            " [-0.72329763 -0.58030952]\n",
            " [-0.58771424 -0.35356315]\n",
            " [-0.65915779 -0.48842983]\n",
            " [-0.69554353 -0.54681738]\n",
            " [ 0.34291102  0.34956797]\n",
            " [ 0.37637529  1.18053164]\n",
            " [-0.78186009 -0.56247643]\n",
            " [ 5.64195076  7.5893965 ]\n",
            " [-0.68345922 -0.54063495]\n",
            " [-0.63711387 -0.49815833]\n",
            " [ 0.14172705  0.13991069]\n",
            " [-0.5810745  -0.48415135]\n",
            " [ 0.21529532 -0.0717541 ]\n",
            " [-0.63711387 -0.44936672]\n",
            " [-0.48174407 -0.36187488]\n",
            " [-0.32743662 -0.2675262 ]\n",
            " [-0.77283005 -0.65029967]\n",
            " [-0.13116606 -0.11988041]]\n"
          ]
        }
      ]
    },
    {
      "cell_type": "code",
      "source": [
        "print(x_test)"
      ],
      "metadata": {
        "colab": {
          "base_uri": "https://localhost:8080/"
        },
        "id": "BrVaUTydoDgq",
        "outputId": "18e1f559-aa50-40a0-cab5-5cb8d184699c"
      },
      "execution_count": null,
      "outputs": [
        {
          "output_type": "stream",
          "name": "stdout",
          "text": [
            "[[-0.77800904 -0.60050389]\n",
            " [ 3.66676238  1.80739242]\n",
            " [-0.74334963 -0.55891379]\n",
            " [-0.63047413 -0.50214351]\n",
            " [-0.37949215 -0.19214403]\n",
            " [ 4.28704643  6.10490776]\n",
            " [ 2.77331963  1.35303472]\n",
            " [ 4.32462733  3.61820169]\n",
            " [-0.47510433 -0.38639911]\n",
            " [-0.88809585 -0.65407773]\n",
            " [ 0.82402622  0.47512456]\n",
            " [-0.6413633  -0.48555818]\n",
            " [ 2.76243047  2.44551115]\n",
            " [-0.46713665 -0.42033533]\n",
            " [-0.51759864 -0.4062919 ]\n",
            " [-0.68465437 -0.48594095]\n",
            " [-0.5033896  -0.41180985]\n",
            " [-0.65172128 -0.44017013]\n",
            " [-0.54004094 -0.41059607]\n",
            " [-0.84042255 -0.59360645]\n",
            " [-0.85768586 -0.6265135 ]\n",
            " [-0.42769662 -0.37795715]\n",
            " [-0.34855098 -0.2360076 ]\n",
            " [-0.90137532 -0.63528687]\n",
            " [ 6.52450434  4.3094601 ]\n",
            " [-0.91571715 -0.61714557]\n",
            " [-0.79646751 -0.57086106]\n",
            " [-0.83869622 -0.6050823 ]\n",
            " [-0.79381161 -0.55545885]]\n"
          ]
        }
      ]
    },
    {
      "cell_type": "code",
      "source": [
        "y_train"
      ],
      "metadata": {
        "colab": {
          "base_uri": "https://localhost:8080/"
        },
        "id": "PHtG5vIToHZ-",
        "outputId": "5a6c34a8-880f-4417-8c1c-6f7b3c8790a6"
      },
      "execution_count": null,
      "outputs": [
        {
          "output_type": "execute_result",
          "data": {
            "text/plain": [
              "array([2, 1, 1, 1, 1, 1, 2, 2, 2, 2, 2, 2, 2, 1, 1, 1, 2, 2, 2, 2, 1, 1,\n",
              "       2, 1, 1, 1, 1, 1, 2, 1, 1, 1, 2, 2, 2, 1, 1, 1, 2, 1, 1, 1, 2, 2,\n",
              "       2, 2, 1, 2, 1, 2, 1, 1, 1, 2, 2, 2, 2, 2, 2, 1, 2, 2, 2, 1, 1, 2,\n",
              "       2, 1, 2, 1, 2, 2, 1, 2, 2, 2, 2, 1, 1, 2, 1, 2, 2, 2, 2, 1, 1])"
            ]
          },
          "metadata": {},
          "execution_count": 21
        }
      ]
    },
    {
      "cell_type": "code",
      "source": [
        "y_test"
      ],
      "metadata": {
        "colab": {
          "base_uri": "https://localhost:8080/"
        },
        "id": "lCMRSiJ6oJPL",
        "outputId": "e5a0aad1-bf2d-460a-842a-9b0468cb51aa"
      },
      "execution_count": null,
      "outputs": [
        {
          "output_type": "execute_result",
          "data": {
            "text/plain": [
              "array([1, 2, 2, 1, 1, 2, 2, 2, 2, 2, 1, 1, 2, 1, 1, 2, 1, 2, 2, 2, 1, 1,\n",
              "       1, 2, 2, 2, 2, 2, 1])"
            ]
          },
          "metadata": {},
          "execution_count": 22
        }
      ]
    },
    {
      "cell_type": "code",
      "source": [
        "from sklearn.neighbors import KNeighborsClassifier\n",
        "classifier = KNeighborsClassifier(n_neighbors=5, metric='minkowski', p=2)\n",
        "classifier.fit(x_train, y_train)"
      ],
      "metadata": {
        "colab": {
          "base_uri": "https://localhost:8080/",
          "height": 74
        },
        "id": "F1A3n2EEoD-g",
        "outputId": "89a27aae-1ac2-4647-8a6b-fb8b3c33550b"
      },
      "execution_count": null,
      "outputs": [
        {
          "output_type": "execute_result",
          "data": {
            "text/plain": [
              "KNeighborsClassifier()"
            ],
            "text/html": [
              "<style>#sk-container-id-2 {color: black;background-color: white;}#sk-container-id-2 pre{padding: 0;}#sk-container-id-2 div.sk-toggleable {background-color: white;}#sk-container-id-2 label.sk-toggleable__label {cursor: pointer;display: block;width: 100%;margin-bottom: 0;padding: 0.3em;box-sizing: border-box;text-align: center;}#sk-container-id-2 label.sk-toggleable__label-arrow:before {content: \"▸\";float: left;margin-right: 0.25em;color: #696969;}#sk-container-id-2 label.sk-toggleable__label-arrow:hover:before {color: black;}#sk-container-id-2 div.sk-estimator:hover label.sk-toggleable__label-arrow:before {color: black;}#sk-container-id-2 div.sk-toggleable__content {max-height: 0;max-width: 0;overflow: hidden;text-align: left;background-color: #f0f8ff;}#sk-container-id-2 div.sk-toggleable__content pre {margin: 0.2em;color: black;border-radius: 0.25em;background-color: #f0f8ff;}#sk-container-id-2 input.sk-toggleable__control:checked~div.sk-toggleable__content {max-height: 200px;max-width: 100%;overflow: auto;}#sk-container-id-2 input.sk-toggleable__control:checked~label.sk-toggleable__label-arrow:before {content: \"▾\";}#sk-container-id-2 div.sk-estimator input.sk-toggleable__control:checked~label.sk-toggleable__label {background-color: #d4ebff;}#sk-container-id-2 div.sk-label input.sk-toggleable__control:checked~label.sk-toggleable__label {background-color: #d4ebff;}#sk-container-id-2 input.sk-hidden--visually {border: 0;clip: rect(1px 1px 1px 1px);clip: rect(1px, 1px, 1px, 1px);height: 1px;margin: -1px;overflow: hidden;padding: 0;position: absolute;width: 1px;}#sk-container-id-2 div.sk-estimator {font-family: monospace;background-color: #f0f8ff;border: 1px dotted black;border-radius: 0.25em;box-sizing: border-box;margin-bottom: 0.5em;}#sk-container-id-2 div.sk-estimator:hover {background-color: #d4ebff;}#sk-container-id-2 div.sk-parallel-item::after {content: \"\";width: 100%;border-bottom: 1px solid gray;flex-grow: 1;}#sk-container-id-2 div.sk-label:hover label.sk-toggleable__label {background-color: #d4ebff;}#sk-container-id-2 div.sk-serial::before {content: \"\";position: absolute;border-left: 1px solid gray;box-sizing: border-box;top: 0;bottom: 0;left: 50%;z-index: 0;}#sk-container-id-2 div.sk-serial {display: flex;flex-direction: column;align-items: center;background-color: white;padding-right: 0.2em;padding-left: 0.2em;position: relative;}#sk-container-id-2 div.sk-item {position: relative;z-index: 1;}#sk-container-id-2 div.sk-parallel {display: flex;align-items: stretch;justify-content: center;background-color: white;position: relative;}#sk-container-id-2 div.sk-item::before, #sk-container-id-2 div.sk-parallel-item::before {content: \"\";position: absolute;border-left: 1px solid gray;box-sizing: border-box;top: 0;bottom: 0;left: 50%;z-index: -1;}#sk-container-id-2 div.sk-parallel-item {display: flex;flex-direction: column;z-index: 1;position: relative;background-color: white;}#sk-container-id-2 div.sk-parallel-item:first-child::after {align-self: flex-end;width: 50%;}#sk-container-id-2 div.sk-parallel-item:last-child::after {align-self: flex-start;width: 50%;}#sk-container-id-2 div.sk-parallel-item:only-child::after {width: 0;}#sk-container-id-2 div.sk-dashed-wrapped {border: 1px dashed gray;margin: 0 0.4em 0.5em 0.4em;box-sizing: border-box;padding-bottom: 0.4em;background-color: white;}#sk-container-id-2 div.sk-label label {font-family: monospace;font-weight: bold;display: inline-block;line-height: 1.2em;}#sk-container-id-2 div.sk-label-container {text-align: center;}#sk-container-id-2 div.sk-container {/* jupyter's `normalize.less` sets `[hidden] { display: none; }` but bootstrap.min.css set `[hidden] { display: none !important; }` so we also need the `!important` here to be able to override the default hidden behavior on the sphinx rendered scikit-learn.org. See: https://github.com/scikit-learn/scikit-learn/issues/21755 */display: inline-block !important;position: relative;}#sk-container-id-2 div.sk-text-repr-fallback {display: none;}</style><div id=\"sk-container-id-2\" class=\"sk-top-container\"><div class=\"sk-text-repr-fallback\"><pre>KNeighborsClassifier()</pre><b>In a Jupyter environment, please rerun this cell to show the HTML representation or trust the notebook. <br />On GitHub, the HTML representation is unable to render, please try loading this page with nbviewer.org.</b></div><div class=\"sk-container\" hidden><div class=\"sk-item\"><div class=\"sk-estimator sk-toggleable\"><input class=\"sk-toggleable__control sk-hidden--visually\" id=\"sk-estimator-id-2\" type=\"checkbox\" checked><label for=\"sk-estimator-id-2\" class=\"sk-toggleable__label sk-toggleable__label-arrow\">KNeighborsClassifier</label><div class=\"sk-toggleable__content\"><pre>KNeighborsClassifier()</pre></div></div></div></div></div>"
            ]
          },
          "metadata": {},
          "execution_count": 23
        }
      ]
    },
    {
      "cell_type": "markdown",
      "source": [
        "menentukan prediksi"
      ],
      "metadata": {
        "id": "kFr2FiDwoTiP"
      }
    },
    {
      "cell_type": "code",
      "source": [
        "y_pred = classifier.predict(x_test)"
      ],
      "metadata": {
        "id": "akZmnT_4oMFs"
      },
      "execution_count": null,
      "outputs": []
    },
    {
      "cell_type": "markdown",
      "source": [
        "eval dan validasi"
      ],
      "metadata": {
        "id": "E_Fj68Nroib0"
      }
    },
    {
      "cell_type": "code",
      "source": [
        "from sklearn.metrics import confusion_matrix\n",
        "cm = confusion_matrix(y_test, y_pred)\n",
        "\n",
        "print(cm)"
      ],
      "metadata": {
        "colab": {
          "base_uri": "https://localhost:8080/"
        },
        "id": "RI8wG8uOoc4L",
        "outputId": "62bc5324-969b-46f1-e5ea-3fc341c111fa"
      },
      "execution_count": null,
      "outputs": [
        {
          "output_type": "stream",
          "name": "stdout",
          "text": [
            "[[ 5  7]\n",
            " [ 6 11]]\n"
          ]
        }
      ]
    },
    {
      "cell_type": "markdown",
      "source": [
        "ada 5 data prediksi yg dikatakan benar\n",
        "dan ada 11 data yang dikatakan salah\n",
        "\n",
        "6 dan 7 adalah prediksi yang kurang tepat"
      ],
      "metadata": {
        "id": "SXRetPCOpDxW"
      }
    },
    {
      "cell_type": "code",
      "source": [
        "from sklearn.metrics import classification_report\n",
        "akurasi = classification_report(y_test, y_pred)\n",
        "\n",
        "print(akurasi)"
      ],
      "metadata": {
        "colab": {
          "base_uri": "https://localhost:8080/"
        },
        "id": "HumTjyAvpSqQ",
        "outputId": "5069e33b-b57f-434e-eb89-cd84214c2a01"
      },
      "execution_count": null,
      "outputs": [
        {
          "output_type": "stream",
          "name": "stdout",
          "text": [
            "              precision    recall  f1-score   support\n",
            "\n",
            "           1       0.45      0.42      0.43        12\n",
            "           2       0.61      0.65      0.63        17\n",
            "\n",
            "    accuracy                           0.55        29\n",
            "   macro avg       0.53      0.53      0.53        29\n",
            "weighted avg       0.55      0.55      0.55        29\n",
            "\n"
          ]
        }
      ]
    },
    {
      "cell_type": "code",
      "source": [
        "from sklearn.metrics import accuracy_score\n",
        "akurasi = accuracy_score(y_test, y_pred)\n",
        "\n",
        "print(\"Tingkat akurasi :%d persen\"%(akurasi*100))"
      ],
      "metadata": {
        "colab": {
          "base_uri": "https://localhost:8080/"
        },
        "id": "Rnib0rDRo4lu",
        "outputId": "ac445867-a92a-4170-8c7a-4cee48e32cb9"
      },
      "execution_count": null,
      "outputs": [
        {
          "output_type": "stream",
          "name": "stdout",
          "text": [
            "Tingkat akurasi :55 persen\n"
          ]
        }
      ]
    },
    {
      "cell_type": "code",
      "source": [
        "from matplotlib.colors import ListedColormap\n",
        "x_set, y_set = x_train, y_train\n",
        "x1, x2 = np.meshgrid(np.arange(start = x_set[:, 0].min()-1, stop = x_set[:, 0].max()+1, step=0.01),\n",
        "                     np.arange(start = x_set[:, 1].min()-1, stop = x_set[:, 0].max()+1, step=0.01))\n",
        "plt.contourf(x1, x2, classifier.predict(np.array([x1.ravel(), x2.ravel()]).T).reshape(x1.shape), alpha =0.75, cmap = ListedColormap (('red', 'green')))\n",
        "plt.xlim(x1.min(), x1.max())\n",
        "plt.ylim(x2.min(), x2.max())\n",
        "for i, j in enumerate (np.unique(y_set)):\n",
        "  plt.scatter(x_set[y_set == j, 0], x_set[y_set == j, 1], c = ListedColormap(('red', 'green'))(i), label = j)\n",
        "  plt.title('Klasifikasi Data dengan K-Nearest Neighbors')\n",
        "  plt.xlabel('Insulin')\n",
        "  plt.ylabel('HOMA')\n",
        "  plt.legend()\n",
        "  plt.show()"
      ],
      "metadata": {
        "colab": {
          "base_uri": "https://localhost:8080/",
          "height": 983
        },
        "id": "o977YD2YqBFw",
        "outputId": "9f77110e-f2f4-4566-97b9-6ade3439ebef"
      },
      "execution_count": null,
      "outputs": [
        {
          "output_type": "stream",
          "name": "stderr",
          "text": [
            "<ipython-input-29-b561a76bb60a>:9: UserWarning: *c* argument looks like a single numeric RGB or RGBA sequence, which should be avoided as value-mapping will have precedence in case its length matches with *x* & *y*.  Please use the *color* keyword-argument or provide a 2D array with a single row if you intend to specify the same RGB or RGBA value for all points.\n",
            "  plt.scatter(x_set[y_set == j, 0], x_set[y_set == j, 1], c = ListedColormap(('red', 'green'))(i), label = j)\n"
          ]
        },
        {
          "output_type": "display_data",
          "data": {
            "text/plain": [
              "<Figure size 640x480 with 1 Axes>"
            ],
            "image/png": "[encoded data removed]"
          },
          "metadata": {}
        },
        {
          "output_type": "display_data",
          "data": {
            "text/plain": [
              "<Figure size 640x480 with 1 Axes>"
            ],
            "image/png": "[encoded data removed]"
          },
          "metadata": {}
        }
      ]
    },
    {
      "cell_type": "code",
      "source": [],
      "metadata": {
        "id": "ZuBQ1CwbQGpg"
      },
      "execution_count": null,
      "outputs": []
    }
  ]
}