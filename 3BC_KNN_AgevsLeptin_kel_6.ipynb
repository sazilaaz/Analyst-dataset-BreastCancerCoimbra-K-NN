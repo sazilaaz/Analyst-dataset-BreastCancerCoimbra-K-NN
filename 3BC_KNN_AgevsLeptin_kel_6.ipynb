{
  "nbformat": 4,
  "nbformat_minor": 0,
  "metadata": {
    "colab": {
      "provenance": []
    },
    "kernelspec": {
      "name": "python3",
      "display_name": "Python 3"
    },
    "language_info": {
      "name": "python"
    }
  },
  "cells": [
    {
      "cell_type": "code",
      "execution_count": null,
      "metadata": {
        "id": "utaP9LomuC1W"
      },
      "outputs": [],
      "source": [
        "import pandas as pd\n",
        "import matplotlib.pyplot as plt\n",
        "import seaborn as sns\n",
        "import scipy.stats as scp\n",
        "import numpy as np"
      ]
    },
    {
      "cell_type": "code",
      "source": [
        "path = ('/content/BreastCancerCoimbra.csv')"
      ],
      "metadata": {
        "id": "AxqjHl7UuNgX"
      },
      "execution_count": null,
      "outputs": []
    },
    {
      "cell_type": "code",
      "source": [
        "bc = pd.read_csv(path)"
      ],
      "metadata": {
        "id": "E-G9NyjSucZ3"
      },
      "execution_count": null,
      "outputs": []
    },
    {
      "cell_type": "code",
      "source": [
        "print(\"data: \", bc.shape)"
      ],
      "metadata": {
        "colab": {
          "base_uri": "https://localhost:8080/"
        },
        "id": "dm3f0XwLufnX",
        "outputId": "3ea0ddfa-1472-44b9-f507-91223522d765"
      },
      "execution_count": null,
      "outputs": [
        {
          "output_type": "stream",
          "name": "stdout",
          "text": [
            "data:  (116, 10)\n"
          ]
        }
      ]
    },
    {
      "cell_type": "code",
      "source": [
        "bc.info()"
      ],
      "metadata": {
        "colab": {
          "base_uri": "https://localhost:8080/"
        },
        "id": "wGrT3U1aulj8",
        "outputId": "e89fdd6b-b073-428f-b4f1-7367f44e340e"
      },
      "execution_count": null,
      "outputs": [
        {
          "output_type": "stream",
          "name": "stdout",
          "text": [
            "<class 'pandas.core.frame.DataFrame'>\n",
            "RangeIndex: 116 entries, 0 to 115\n",
            "Data columns (total 10 columns):\n",
            " #   Column       Non-Null Count  Dtype  \n",
            "---  ------       --------------  -----  \n",
            " 0   AGE          116 non-null    int64  \n",
            " 1   BMI          116 non-null    float64\n",
            " 2   GLUCOSE      116 non-null    int64  \n",
            " 3   INSULIN      116 non-null    float64\n",
            " 4   HOMA         116 non-null    float64\n",
            " 5   LEPTIN       116 non-null    float64\n",
            " 6   ADIPONECTIN  116 non-null    float64\n",
            " 7   RESISTIN     116 non-null    float64\n",
            " 8   MCP.1        116 non-null    float64\n",
            " 9   CLASS        116 non-null    int64  \n",
            "dtypes: float64(7), int64(3)\n",
            "memory usage: 9.2 KB\n"
          ]
        }
      ]
    },
    {
      "cell_type": "code",
      "source": [
        "bc.head()"
      ],
      "metadata": {
        "colab": {
          "base_uri": "https://localhost:8080/",
          "height": 206
        },
        "id": "ZaKv8043unR3",
        "outputId": "f186a23c-376d-4380-db84-1d43bb1f2525"
      },
      "execution_count": null,
      "outputs": [
        {
          "output_type": "execute_result",
          "data": {
            "text/plain": [
              "   AGE        BMI  GLUCOSE  INSULIN      HOMA   LEPTIN  ADIPONECTIN  RESISTIN  \\\n",
              "0   48  23.500000       70    2.707  0.467409   8.8071     9.702400   7.99585   \n",
              "1   83  20.690495       92    3.115  0.706897   8.8438     5.429285   4.06405   \n",
              "2   82  23.124670       91    4.498  1.009651  17.9393    22.432040   9.27715   \n",
              "3   68  21.367521       77    3.226  0.612725   9.8827     7.169560  12.76600   \n",
              "4   86  21.111111       92    3.549  0.805386   6.6994     4.819240  10.57635   \n",
              "\n",
              "     MCP.1  CLASS  \n",
              "0  417.114      1  \n",
              "1  468.786      1  \n",
              "2  554.697      1  \n",
              "3  928.220      1  \n",
              "4  773.920      1  "
            ],
            "text/html": [
              "\n",
              "  <div id=\"df-8790832c-28c1-4b90-a103-92313f1920da\">\n",
              "    <div class=\"colab-df-container\">\n",
              "      <div>\n",
              "<style scoped>\n",
              "    .dataframe tbody tr th:only-of-type {\n",
              "        vertical-align: middle;\n",
              "    }\n",
              "\n",
              "    .dataframe tbody tr th {\n",
              "        vertical-align: top;\n",
              "    }\n",
              "\n",
              "    .dataframe thead th {\n",
              "        text-align: right;\n",
              "    }\n",
              "</style>\n",
              "<table border=\"1\" class=\"dataframe\">\n",
              "  <thead>\n",
              "    <tr style=\"text-align: right;\">\n",
              "      <th></th>\n",
              "      <th>AGE</th>\n",
              "      <th>BMI</th>\n",
              "      <th>GLUCOSE</th>\n",
              "      <th>INSULIN</th>\n",
              "      <th>HOMA</th>\n",
              "      <th>LEPTIN</th>\n",
              "      <th>ADIPONECTIN</th>\n",
              "      <th>RESISTIN</th>\n",
              "      <th>MCP.1</th>\n",
              "      <th>CLASS</th>\n",
              "    </tr>\n",
              "  </thead>\n",
              "  <tbody>\n",
              "    <tr>\n",
              "      <th>0</th>\n",
              "      <td>48</td>\n",
              "      <td>23.500000</td>\n",
              "      <td>70</td>\n",
              "      <td>2.707</td>\n",
              "      <td>0.467409</td>\n",
              "      <td>8.8071</td>\n",
              "      <td>9.702400</td>\n",
              "      <td>7.99585</td>\n",
              "      <td>417.114</td>\n",
              "      <td>1</td>\n",
              "    </tr>\n",
              "    <tr>\n",
              "      <th>1</th>\n",
              "      <td>83</td>\n",
              "      <td>20.690495</td>\n",
              "      <td>92</td>\n",
              "      <td>3.115</td>\n",
              "      <td>0.706897</td>\n",
              "      <td>8.8438</td>\n",
              "      <td>5.429285</td>\n",
              "      <td>4.06405</td>\n",
              "      <td>468.786</td>\n",
              "      <td>1</td>\n",
              "    </tr>\n",
              "    <tr>\n",
              "      <th>2</th>\n",
              "      <td>82</td>\n",
              "      <td>23.124670</td>\n",
              "      <td>91</td>\n",
              "      <td>4.498</td>\n",
              "      <td>1.009651</td>\n",
              "      <td>17.9393</td>\n",
              "      <td>22.432040</td>\n",
              "      <td>9.27715</td>\n",
              "      <td>554.697</td>\n",
              "      <td>1</td>\n",
              "    </tr>\n",
              "    <tr>\n",
              "      <th>3</th>\n",
              "      <td>68</td>\n",
              "      <td>21.367521</td>\n",
              "      <td>77</td>\n",
              "      <td>3.226</td>\n",
              "      <td>0.612725</td>\n",
              "      <td>9.8827</td>\n",
              "      <td>7.169560</td>\n",
              "      <td>12.76600</td>\n",
              "      <td>928.220</td>\n",
              "      <td>1</td>\n",
              "    </tr>\n",
              "    <tr>\n",
              "      <th>4</th>\n",
              "      <td>86</td>\n",
              "      <td>21.111111</td>\n",
              "      <td>92</td>\n",
              "      <td>3.549</td>\n",
              "      <td>0.805386</td>\n",
              "      <td>6.6994</td>\n",
              "      <td>4.819240</td>\n",
              "      <td>10.57635</td>\n",
              "      <td>773.920</td>\n",
              "      <td>1</td>\n",
              "    </tr>\n",
              "  </tbody>\n",
              "</table>\n",
              "</div>\n",
              "      <button class=\"colab-df-convert\" onclick=\"convertToInteractive('df-8790832c-28c1-4b90-a103-92313f1920da')\"\n",
              "              title=\"Convert this dataframe to an interactive table.\"\n",
              "              style=\"display:none;\">\n",
              "        \n",
              "  <svg xmlns=\"http://www.w3.org/2000/svg\" height=\"24px\"viewBox=\"0 0 24 24\"\n",
              "       width=\"24px\">\n",
              "    <path d=\"M0 0h24v24H0V0z\" fill=\"none\"/>\n",
              "    <path d=\"M18.56 5.44l.94 2.06.94-2.06 2.06-.94-2.06-.94-.94-2.06-.94 2.06-2.06.94zm-11 1L8.5 8.5l.94-2.06 2.06-.94-2.06-.94L8.5 2.5l-.94 2.06-2.06.94zm10 10l.94 2.06.94-2.06 2.06-.94-2.06-.94-.94-2.06-.94 2.06-2.06.94z\"/><path d=\"M17.41 7.96l-1.37-1.37c-.4-.4-.92-.59-1.43-.59-.52 0-1.04.2-1.43.59L10.3 9.45l-7.72 7.72c-.78.78-.78 2.05 0 2.83L4 21.41c.39.39.9.59 1.41.59.51 0 1.02-.2 1.41-.59l7.78-7.78 2.81-2.81c.8-.78.8-2.07 0-2.86zM5.41 20L4 18.59l7.72-7.72 1.47 1.35L5.41 20z\"/>\n",
              "  </svg>\n",
              "      </button>\n",
              "      \n",
              "  <style>\n",
              "    .colab-df-container {\n",
              "      display:flex;\n",
              "      flex-wrap:wrap;\n",
              "      gap: 12px;\n",
              "    }\n",
              "\n",
              "    .colab-df-convert {\n",
              "      background-color: #E8F0FE;\n",
              "      border: none;\n",
              "      border-radius: 50%;\n",
              "      cursor: pointer;\n",
              "      display: none;\n",
              "      fill: #1967D2;\n",
              "      height: 32px;\n",
              "      padding: 0 0 0 0;\n",
              "      width: 32px;\n",
              "    }\n",
              "\n",
              "    .colab-df-convert:hover {\n",
              "      background-color: #E2EBFA;\n",
              "      box-shadow: 0px 1px 2px rgba(60, 64, 67, 0.3), 0px 1px 3px 1px rgba(60, 64, 67, 0.15);\n",
              "      fill: #174EA6;\n",
              "    }\n",
              "\n",
              "    [theme=dark] .colab-df-convert {\n",
              "      background-color: #3B4455;\n",
              "      fill: #D2E3FC;\n",
              "    }\n",
              "\n",
              "    [theme=dark] .colab-df-convert:hover {\n",
              "      background-color: #434B5C;\n",
              "      box-shadow: 0px 1px 3px 1px rgba(0, 0, 0, 0.15);\n",
              "      filter: drop-shadow(0px 1px 2px rgba(0, 0, 0, 0.3));\n",
              "      fill: #FFFFFF;\n",
              "    }\n",
              "  </style>\n",
              "\n",
              "      <script>\n",
              "        const buttonEl =\n",
              "          document.querySelector('#df-8790832c-28c1-4b90-a103-92313f1920da button.colab-df-convert');\n",
              "        buttonEl.style.display =\n",
              "          google.colab.kernel.accessAllowed ? 'block' : 'none';\n",
              "\n",
              "        async function convertToInteractive(key) {\n",
              "          const element = document.querySelector('#df-8790832c-28c1-4b90-a103-92313f1920da');\n",
              "          const dataTable =\n",
              "            await google.colab.kernel.invokeFunction('convertToInteractive',\n",
              "                                                     [key], {});\n",
              "          if (!dataTable) return;\n",
              "\n",
              "          const docLinkHtml = 'Like what you see? Visit the ' +\n",
              "            '<a target=\"_blank\" href=https://colab.research.google.com/notebooks/data_table.ipynb>data table notebook</a>'\n",
              "            + ' to learn more about interactive tables.';\n",
              "          element.innerHTML = '';\n",
              "          dataTable['output_type'] = 'display_data';\n",
              "          await google.colab.output.renderOutput(dataTable, element);\n",
              "          const docLink = document.createElement('div');\n",
              "          docLink.innerHTML = docLinkHtml;\n",
              "          element.appendChild(docLink);\n",
              "        }\n",
              "      </script>\n",
              "    </div>\n",
              "  </div>\n",
              "  "
            ]
          },
          "metadata": {},
          "execution_count": 6
        }
      ]
    },
    {
      "cell_type": "code",
      "source": [
        "bc.describe()"
      ],
      "metadata": {
        "colab": {
          "base_uri": "https://localhost:8080/",
          "height": 364
        },
        "id": "y2bMjewGuo2z",
        "outputId": "8d03563d-7ab1-4211-fcb0-abaa872b1f47"
      },
      "execution_count": null,
      "outputs": [
        {
          "output_type": "execute_result",
          "data": {
            "text/plain": [
              "              AGE         BMI     GLUCOSE     INSULIN        HOMA      LEPTIN  \\\n",
              "count  116.000000  116.000000  116.000000  116.000000  116.000000  116.000000   \n",
              "mean    57.301724   27.582111   97.793103   10.012086    2.694988   26.615080   \n",
              "std     16.112766    5.020136   22.525162   10.067768    3.642043   19.183294   \n",
              "min     24.000000   18.370000   60.000000    2.432000    0.467409    4.311000   \n",
              "25%     45.000000   22.973205   85.750000    4.359250    0.917966   12.313675   \n",
              "50%     56.000000   27.662416   92.000000    5.924500    1.380939   20.271000   \n",
              "75%     71.000000   31.241442  102.000000   11.189250    2.857787   37.378300   \n",
              "max     89.000000   38.578759  201.000000   58.460000   25.050342   90.280000   \n",
              "\n",
              "       ADIPONECTIN    RESISTIN        MCP.1       CLASS  \n",
              "count   116.000000  116.000000   116.000000  116.000000  \n",
              "mean     10.180874   14.725966   534.647000    1.551724  \n",
              "std       6.843341   12.390646   345.912663    0.499475  \n",
              "min       1.656020    3.210000    45.843000    1.000000  \n",
              "25%       5.474283    6.881763   269.978250    1.000000  \n",
              "50%       8.352692   10.827740   471.322500    2.000000  \n",
              "75%      11.815970   17.755207   700.085000    2.000000  \n",
              "max      38.040000   82.100000  1698.440000    2.000000  "
            ],
            "text/html": [
              "\n",
              "  <div id=\"df-0cab0cad-610f-4844-b457-41f762582113\">\n",
              "    <div class=\"colab-df-container\">\n",
              "      <div>\n",
              "<style scoped>\n",
              "    .dataframe tbody tr th:only-of-type {\n",
              "        vertical-align: middle;\n",
              "    }\n",
              "\n",
              "    .dataframe tbody tr th {\n",
              "        vertical-align: top;\n",
              "    }\n",
              "\n",
              "    .dataframe thead th {\n",
              "        text-align: right;\n",
              "    }\n",
              "</style>\n",
              "<table border=\"1\" class=\"dataframe\">\n",
              "  <thead>\n",
              "    <tr style=\"text-align: right;\">\n",
              "      <th></th>\n",
              "      <th>AGE</th>\n",
              "      <th>BMI</th>\n",
              "      <th>GLUCOSE</th>\n",
              "      <th>INSULIN</th>\n",
              "      <th>HOMA</th>\n",
              "      <th>LEPTIN</th>\n",
              "      <th>ADIPONECTIN</th>\n",
              "      <th>RESISTIN</th>\n",
              "      <th>MCP.1</th>\n",
              "      <th>CLASS</th>\n",
              "    </tr>\n",
              "  </thead>\n",
              "  <tbody>\n",
              "    <tr>\n",
              "      <th>count</th>\n",
              "      <td>116.000000</td>\n",
              "      <td>116.000000</td>\n",
              "      <td>116.000000</td>\n",
              "      <td>116.000000</td>\n",
              "      <td>116.000000</td>\n",
              "      <td>116.000000</td>\n",
              "      <td>116.000000</td>\n",
              "      <td>116.000000</td>\n",
              "      <td>116.000000</td>\n",
              "      <td>116.000000</td>\n",
              "    </tr>\n",
              "    <tr>\n",
              "      <th>mean</th>\n",
              "      <td>57.301724</td>\n",
              "      <td>27.582111</td>\n",
              "      <td>97.793103</td>\n",
              "      <td>10.012086</td>\n",
              "      <td>2.694988</td>\n",
              "      <td>26.615080</td>\n",
              "      <td>10.180874</td>\n",
              "      <td>14.725966</td>\n",
              "      <td>534.647000</td>\n",
              "      <td>1.551724</td>\n",
              "    </tr>\n",
              "    <tr>\n",
              "      <th>std</th>\n",
              "      <td>16.112766</td>\n",
              "      <td>5.020136</td>\n",
              "      <td>22.525162</td>\n",
              "      <td>10.067768</td>\n",
              "      <td>3.642043</td>\n",
              "      <td>19.183294</td>\n",
              "      <td>6.843341</td>\n",
              "      <td>12.390646</td>\n",
              "      <td>345.912663</td>\n",
              "      <td>0.499475</td>\n",
              "    </tr>\n",
              "    <tr>\n",
              "      <th>min</th>\n",
              "      <td>24.000000</td>\n",
              "      <td>18.370000</td>\n",
              "      <td>60.000000</td>\n",
              "      <td>2.432000</td>\n",
              "      <td>0.467409</td>\n",
              "      <td>4.311000</td>\n",
              "      <td>1.656020</td>\n",
              "      <td>3.210000</td>\n",
              "      <td>45.843000</td>\n",
              "      <td>1.000000</td>\n",
              "    </tr>\n",
              "    <tr>\n",
              "      <th>25%</th>\n",
              "      <td>45.000000</td>\n",
              "      <td>22.973205</td>\n",
              "      <td>85.750000</td>\n",
              "      <td>4.359250</td>\n",
              "      <td>0.917966</td>\n",
              "      <td>12.313675</td>\n",
              "      <td>5.474283</td>\n",
              "      <td>6.881763</td>\n",
              "      <td>269.978250</td>\n",
              "      <td>1.000000</td>\n",
              "    </tr>\n",
              "    <tr>\n",
              "      <th>50%</th>\n",
              "      <td>56.000000</td>\n",
              "      <td>27.662416</td>\n",
              "      <td>92.000000</td>\n",
              "      <td>5.924500</td>\n",
              "      <td>1.380939</td>\n",
              "      <td>20.271000</td>\n",
              "      <td>8.352692</td>\n",
              "      <td>10.827740</td>\n",
              "      <td>471.322500</td>\n",
              "      <td>2.000000</td>\n",
              "    </tr>\n",
              "    <tr>\n",
              "      <th>75%</th>\n",
              "      <td>71.000000</td>\n",
              "      <td>31.241442</td>\n",
              "      <td>102.000000</td>\n",
              "      <td>11.189250</td>\n",
              "      <td>2.857787</td>\n",
              "      <td>37.378300</td>\n",
              "      <td>11.815970</td>\n",
              "      <td>17.755207</td>\n",
              "      <td>700.085000</td>\n",
              "      <td>2.000000</td>\n",
              "    </tr>\n",
              "    <tr>\n",
              "      <th>max</th>\n",
              "      <td>89.000000</td>\n",
              "      <td>38.578759</td>\n",
              "      <td>201.000000</td>\n",
              "      <td>58.460000</td>\n",
              "      <td>25.050342</td>\n",
              "      <td>90.280000</td>\n",
              "      <td>38.040000</td>\n",
              "      <td>82.100000</td>\n",
              "      <td>1698.440000</td>\n",
              "      <td>2.000000</td>\n",
              "    </tr>\n",
              "  </tbody>\n",
              "</table>\n",
              "</div>\n",
              "      <button class=\"colab-df-convert\" onclick=\"convertToInteractive('df-0cab0cad-610f-4844-b457-41f762582113')\"\n",
              "              title=\"Convert this dataframe to an interactive table.\"\n",
              "              style=\"display:none;\">\n",
              "        \n",
              "  <svg xmlns=\"http://www.w3.org/2000/svg\" height=\"24px\"viewBox=\"0 0 24 24\"\n",
              "       width=\"24px\">\n",
              "    <path d=\"M0 0h24v24H0V0z\" fill=\"none\"/>\n",
              "    <path d=\"M18.56 5.44l.94 2.06.94-2.06 2.06-.94-2.06-.94-.94-2.06-.94 2.06-2.06.94zm-11 1L8.5 8.5l.94-2.06 2.06-.94-2.06-.94L8.5 2.5l-.94 2.06-2.06.94zm10 10l.94 2.06.94-2.06 2.06-.94-2.06-.94-.94-2.06-.94 2.06-2.06.94z\"/><path d=\"M17.41 7.96l-1.37-1.37c-.4-.4-.92-.59-1.43-.59-.52 0-1.04.2-1.43.59L10.3 9.45l-7.72 7.72c-.78.78-.78 2.05 0 2.83L4 21.41c.39.39.9.59 1.41.59.51 0 1.02-.2 1.41-.59l7.78-7.78 2.81-2.81c.8-.78.8-2.07 0-2.86zM5.41 20L4 18.59l7.72-7.72 1.47 1.35L5.41 20z\"/>\n",
              "  </svg>\n",
              "      </button>\n",
              "      \n",
              "  <style>\n",
              "    .colab-df-container {\n",
              "      display:flex;\n",
              "      flex-wrap:wrap;\n",
              "      gap: 12px;\n",
              "    }\n",
              "\n",
              "    .colab-df-convert {\n",
              "      background-color: #E8F0FE;\n",
              "      border: none;\n",
              "      border-radius: 50%;\n",
              "      cursor: pointer;\n",
              "      display: none;\n",
              "      fill: #1967D2;\n",
              "      height: 32px;\n",
              "      padding: 0 0 0 0;\n",
              "      width: 32px;\n",
              "    }\n",
              "\n",
              "    .colab-df-convert:hover {\n",
              "      background-color: #E2EBFA;\n",
              "      box-shadow: 0px 1px 2px rgba(60, 64, 67, 0.3), 0px 1px 3px 1px rgba(60, 64, 67, 0.15);\n",
              "      fill: #174EA6;\n",
              "    }\n",
              "\n",
              "    [theme=dark] .colab-df-convert {\n",
              "      background-color: #3B4455;\n",
              "      fill: #D2E3FC;\n",
              "    }\n",
              "\n",
              "    [theme=dark] .colab-df-convert:hover {\n",
              "      background-color: #434B5C;\n",
              "      box-shadow: 0px 1px 3px 1px rgba(0, 0, 0, 0.15);\n",
              "      filter: drop-shadow(0px 1px 2px rgba(0, 0, 0, 0.3));\n",
              "      fill: #FFFFFF;\n",
              "    }\n",
              "  </style>\n",
              "\n",
              "      <script>\n",
              "        const buttonEl =\n",
              "          document.querySelector('#df-0cab0cad-610f-4844-b457-41f762582113 button.colab-df-convert');\n",
              "        buttonEl.style.display =\n",
              "          google.colab.kernel.accessAllowed ? 'block' : 'none';\n",
              "\n",
              "        async function convertToInteractive(key) {\n",
              "          const element = document.querySelector('#df-0cab0cad-610f-4844-b457-41f762582113');\n",
              "          const dataTable =\n",
              "            await google.colab.kernel.invokeFunction('convertToInteractive',\n",
              "                                                     [key], {});\n",
              "          if (!dataTable) return;\n",
              "\n",
              "          const docLinkHtml = 'Like what you see? Visit the ' +\n",
              "            '<a target=\"_blank\" href=https://colab.research.google.com/notebooks/data_table.ipynb>data table notebook</a>'\n",
              "            + ' to learn more about interactive tables.';\n",
              "          element.innerHTML = '';\n",
              "          dataTable['output_type'] = 'display_data';\n",
              "          await google.colab.output.renderOutput(dataTable, element);\n",
              "          const docLink = document.createElement('div');\n",
              "          docLink.innerHTML = docLinkHtml;\n",
              "          element.appendChild(docLink);\n",
              "        }\n",
              "      </script>\n",
              "    </div>\n",
              "  </div>\n",
              "  "
            ]
          },
          "metadata": {},
          "execution_count": 7
        }
      ]
    },
    {
      "cell_type": "code",
      "source": [
        "x = bc.iloc[:, [0,5]].values\n",
        "y = bc.iloc[:, -1].values"
      ],
      "metadata": {
        "id": "pemNlw_Uuqwa"
      },
      "execution_count": null,
      "outputs": []
    },
    {
      "cell_type": "code",
      "source": [
        "x"
      ],
      "metadata": {
        "colab": {
          "base_uri": "https://localhost:8080/"
        },
        "id": "j3F2J1vGuz2m",
        "outputId": "ec52bf2e-0258-4c53-83f8-534dbb822dca"
      },
      "execution_count": null,
      "outputs": [
        {
          "output_type": "execute_result",
          "data": {
            "text/plain": [
              "array([[48.    ,  8.8071],\n",
              "       [83.    ,  8.8438],\n",
              "       [82.    , 17.9393],\n",
              "       [68.    ,  9.8827],\n",
              "       [86.    ,  6.6994],\n",
              "       [49.    ,  6.8317],\n",
              "       [89.    ,  6.964 ],\n",
              "       [76.    ,  4.311 ],\n",
              "       [73.    ,  4.47  ],\n",
              "       [75.    , 17.127 ],\n",
              "       [34.    , 14.57  ],\n",
              "       [29.    , 35.59  ],\n",
              "       [25.    , 20.45  ],\n",
              "       [24.    ,  8.88  ],\n",
              "       [38.    , 15.26  ],\n",
              "       [44.    , 14.09  ],\n",
              "       [47.    , 26.65  ],\n",
              "       [61.    , 30.7729],\n",
              "       [64.    , 21.2117],\n",
              "       [32.    , 49.3727],\n",
              "       [36.    , 15.1248],\n",
              "       [34.    , 28.7502],\n",
              "       [29.    , 45.6196],\n",
              "       [35.    , 39.2134],\n",
              "       [54.    , 12.331 ],\n",
              "       [45.    , 39.9802],\n",
              "       [50.    , 46.6401],\n",
              "       [66.    , 45.9624],\n",
              "       [35.    , 50.6094],\n",
              "       [36.    , 10.2809],\n",
              "       [66.    , 74.7069],\n",
              "       [53.    , 27.1841],\n",
              "       [28.    , 68.5102],\n",
              "       [43.    , 31.2128],\n",
              "       [51.    , 20.092 ],\n",
              "       [67.    , 21.9033],\n",
              "       [66.    , 16.2247],\n",
              "       [69.    , 83.4821],\n",
              "       [60.    , 24.2998],\n",
              "       [77.    , 21.7863],\n",
              "       [76.    , 28.562 ],\n",
              "       [76.    , 35.891 ],\n",
              "       [75.    , 10.39  ],\n",
              "       [69.    , 15.145 ],\n",
              "       [71.    , 56.502 ],\n",
              "       [66.    , 24.846 ],\n",
              "       [75.    , 65.926 ],\n",
              "       [78.    ,  6.633 ],\n",
              "       [69.    , 45.272 ],\n",
              "       [85.    ,  7.85  ],\n",
              "       [76.    , 21.778 ],\n",
              "       [77.    , 13.74  ],\n",
              "       [45.    ,  7.6476],\n",
              "       [45.    ,  7.7529],\n",
              "       [49.    , 11.2406],\n",
              "       [34.    , 16.7353],\n",
              "       [42.    , 19.0826],\n",
              "       [68.    ,  9.6994],\n",
              "       [51.    , 11.0816],\n",
              "       [62.    ,  9.8648],\n",
              "       [38.    ,  8.438 ],\n",
              "       [69.    , 32.58  ],\n",
              "       [49.    ,  6.3339],\n",
              "       [51.    ,  8.0163],\n",
              "       [59.    , 14.9037],\n",
              "       [45.    , 17.9973],\n",
              "       [54.    ,  8.6874],\n",
              "       [64.    , 12.1905],\n",
              "       [46.    , 12.87  ],\n",
              "       [44.    , 13.08  ],\n",
              "       [45.    ,  7.65  ],\n",
              "       [44.    , 18.16  ],\n",
              "       [51.    ,  9.62  ],\n",
              "       [72.    , 21.78  ],\n",
              "       [46.    , 10.16  ],\n",
              "       [43.    ,  9.8   ],\n",
              "       [55.    , 37.2234],\n",
              "       [43.    , 25.7816],\n",
              "       [86.    , 47.647 ],\n",
              "       [41.    , 44.7059],\n",
              "       [59.    , 17.022 ],\n",
              "       [81.    , 38.8066],\n",
              "       [48.    , 46.076 ],\n",
              "       [71.    , 19.0653],\n",
              "       [42.    , 12.2617],\n",
              "       [65.    , 26.5166],\n",
              "       [48.    , 15.5325],\n",
              "       [85.    , 70.8824],\n",
              "       [48.    , 18.1314],\n",
              "       [58.    , 22.8884],\n",
              "       [40.    , 31.0385],\n",
              "       [82.    , 31.6453],\n",
              "       [52.    , 29.2739],\n",
              "       [49.    , 42.3914],\n",
              "       [60.    , 37.843 ],\n",
              "       [49.    , 51.3387],\n",
              "       [44.    , 12.6757],\n",
              "       [40.    , 14.3224],\n",
              "       [71.    , 53.4997],\n",
              "       [69.    , 14.7485],\n",
              "       [74.    , 31.1233],\n",
              "       [66.    , 14.9084],\n",
              "       [65.    , 44.0217],\n",
              "       [72.    , 26.8081],\n",
              "       [57.    , 33.1612],\n",
              "       [73.    , 41.4064],\n",
              "       [45.    , 23.8479],\n",
              "       [46.    , 18.69  ],\n",
              "       [68.    , 17.87  ],\n",
              "       [75.    , 50.53  ],\n",
              "       [54.    , 89.27  ],\n",
              "       [45.    , 54.68  ],\n",
              "       [62.    , 12.45  ],\n",
              "       [65.    , 61.48  ],\n",
              "       [72.    , 24.96  ],\n",
              "       [86.    , 90.28  ]])"
            ]
          },
          "metadata": {},
          "execution_count": 9
        }
      ]
    },
    {
      "cell_type": "code",
      "source": [
        "y"
      ],
      "metadata": {
        "colab": {
          "base_uri": "https://localhost:8080/"
        },
        "id": "vt4dSfrCu0ao",
        "outputId": "c34dd1d1-12f0-4dc0-905b-cebd62bc739c"
      },
      "execution_count": null,
      "outputs": [
        {
          "output_type": "execute_result",
          "data": {
            "text/plain": [
              "array([1, 1, 1, 1, 1, 1, 1, 1, 1, 1, 1, 1, 1, 1, 1, 1, 1, 1, 1, 1, 1, 1,\n",
              "       1, 1, 1, 1, 1, 1, 1, 1, 1, 1, 1, 1, 1, 1, 1, 1, 1, 1, 1, 1, 1, 1,\n",
              "       1, 1, 1, 1, 1, 1, 1, 1, 2, 2, 2, 2, 2, 2, 2, 2, 2, 2, 2, 2, 2, 2,\n",
              "       2, 2, 2, 2, 2, 2, 2, 2, 2, 2, 2, 2, 2, 2, 2, 2, 2, 2, 2, 2, 2, 2,\n",
              "       2, 2, 2, 2, 2, 2, 2, 2, 2, 2, 2, 2, 2, 2, 2, 2, 2, 2, 2, 2, 2, 2,\n",
              "       2, 2, 2, 2, 2, 2])"
            ]
          },
          "metadata": {},
          "execution_count": 10
        }
      ]
    },
    {
      "cell_type": "code",
      "source": [
        "from sklearn.model_selection import train_test_split\n",
        "\n",
        "x_train, x_test, y_train, y_test = train_test_split(x,y, test_size=0.25, random_state=0)"
      ],
      "metadata": {
        "id": "MPSeuaoou1To"
      },
      "execution_count": null,
      "outputs": []
    },
    {
      "cell_type": "code",
      "source": [
        "len(x_train)"
      ],
      "metadata": {
        "colab": {
          "base_uri": "https://localhost:8080/"
        },
        "id": "iu_XJ157u5ZQ",
        "outputId": "290f7d0e-eb21-4372-bb9b-d5f007e7d09b"
      },
      "execution_count": null,
      "outputs": [
        {
          "output_type": "execute_result",
          "data": {
            "text/plain": [
              "87"
            ]
          },
          "metadata": {},
          "execution_count": 12
        }
      ]
    },
    {
      "cell_type": "code",
      "source": [
        "len(x_test)"
      ],
      "metadata": {
        "colab": {
          "base_uri": "https://localhost:8080/"
        },
        "id": "1g47miZmu9ig",
        "outputId": "d01a827d-3098-4e38-909b-ba4adbcce3a5"
      },
      "execution_count": null,
      "outputs": [
        {
          "output_type": "execute_result",
          "data": {
            "text/plain": [
              "29"
            ]
          },
          "metadata": {},
          "execution_count": 13
        }
      ]
    },
    {
      "cell_type": "code",
      "source": [
        "from sklearn.preprocessing import StandardScaler\n",
        "sc = StandardScaler()\n",
        "x_train = sc.fit_transform(x_train)\n",
        "x_test = sc.transform(x_test)"
      ],
      "metadata": {
        "id": "PpKnT59Wu_Ln"
      },
      "execution_count": null,
      "outputs": []
    },
    {
      "cell_type": "code",
      "source": [
        "print(x_train)"
      ],
      "metadata": {
        "colab": {
          "base_uri": "https://localhost:8080/"
        },
        "id": "XBWSUBGMvCQP",
        "outputId": "66213139-0f9f-43d8-b591-4c026cb386c0"
      },
      "execution_count": null,
      "outputs": [
        {
          "output_type": "stream",
          "name": "stdout",
          "text": [
            "[[-0.59958074  0.7424714 ]\n",
            " [-0.97895182  0.17424292]\n",
            " [ 0.475304   -0.14939306]\n",
            " [ 0.60176103 -0.91000469]\n",
            " [ 0.66498955  0.88889751]\n",
            " [ 1.92955983 -1.0583675 ]\n",
            " [-0.59958074 -0.84098018]\n",
            " [ 1.73987429  3.17673566]\n",
            " [-0.59958074  1.19727886]\n",
            " [ 0.475304   -0.65453926]\n",
            " [-0.91572331 -0.76803144]\n",
            " [ 1.48696023  0.19622768]\n",
            " [-0.47312371 -1.00487718]\n",
            " [ 0.475304    0.9239918 ]\n",
            " [ 0.34884697 -0.33413111]\n",
            " [-1.86415102  0.39674392]\n",
            " [ 0.22238995 -0.91091458]\n",
            " [-0.78926628 -0.75815482]\n",
            " [ 0.66498955  0.24374017]\n",
            " [-0.22020965  0.4797726 ]\n",
            " [ 1.10758914 -0.30534505]\n",
            " [ 1.55018874 -0.96281386]\n",
            " [-0.09375262  0.27328362]\n",
            " [ 1.04436063 -0.88421771]\n",
            " [ 1.10758914  0.4120443 ]\n",
            " [ 1.73987429 -1.0718176 ]\n",
            " [-0.91572331 -0.69614001]\n",
            " [ 0.15916143  0.151882  ]\n",
            " [-0.85249479 -1.02361887]\n",
            " [ 1.10758914  0.03949795]\n",
            " [ 0.09593292 -0.17715739]\n",
            " [-0.59958074 -1.06509255]\n",
            " [-0.85249479 -1.01826628]\n",
            " [-0.85249479 -0.20012829]\n",
            " [ 0.60176103 -0.50399577]\n",
            " [-0.66280925 -0.96467939]\n",
            " [-0.47312371 -0.39104749]\n",
            " [-1.48477994  1.16020722]\n",
            " [-1.54800845 -0.56167462]\n",
            " [ 0.53853252 -0.29897583]\n",
            " [-1.48477994  0.5809279 ]\n",
            " [-0.34666668 -0.0305432 ]\n",
            " [-0.97895182 -0.91420848]\n",
            " [ 0.60176103 -0.91932216]\n",
            " [-0.03052411 -0.24890141]\n",
            " [ 0.66498955 -0.66266727]\n",
            " [-1.92737953  2.0701373 ]\n",
            " [ 0.79144657  1.3071264 ]\n",
            " [-1.29509439 -0.6366668 ]\n",
            " [ 0.41207549 -0.06447343]\n",
            " [-1.67446548  1.09734352]\n",
            " [-1.42155142 -0.88976347]\n",
            " [ 1.67664577 -1.01333051]\n",
            " [-0.66280925  0.92976629]\n",
            " [ 0.41207549  1.7127795 ]\n",
            " [ 0.85467509 -0.14359823]\n",
            " [-1.10540885  0.86012162]\n",
            " [-0.91572331 -0.74748014]\n",
            " [ 0.0327044  -0.54710114]\n",
            " [-1.42155142 -0.64353926]\n",
            " [ 1.04436063  1.15617117]\n",
            " [-0.47312371 -0.92335821]\n",
            " [-0.97895182 -0.10183481]\n",
            " [-0.85249479  0.61990574]\n",
            " [ 0.66498955  2.83118609]\n",
            " [ 1.42373171  0.56024952]\n",
            " [ 0.41207549  0.8253425 ]\n",
            " [ 1.04436063  1.93877774]\n",
            " [ 0.9179036   0.69240206]\n",
            " [ 1.17081766 -0.30492315]\n",
            " [-0.85249479 -0.49752488]\n",
            " [-0.47312371 -0.84906243]\n",
            " [-2.11706508 -0.3728497 ]\n",
            " [-0.28343817  3.12539553]\n",
            " [-0.66280925 -0.49070833]\n",
            " [-0.85249479 -1.02349688]\n",
            " [ 1.67664577  2.19072052]\n",
            " [ 0.475304   -0.58762935]\n",
            " [-1.54800845  0.0490645 ]\n",
            " [ 0.79144657 -0.44323651]\n",
            " [ 1.04436063 -0.5417638 ]\n",
            " [ 0.85467509 -0.04965596]\n",
            " [ 0.22238995 -0.77950418]\n",
            " [ 0.34884697 -0.79269504]\n",
            " [ 0.0327044  -0.65477817]\n",
            " [ 1.23404617 -1.07519283]\n",
            " [ 0.79144657  1.45973875]]\n"
          ]
        }
      ]
    },
    {
      "cell_type": "code",
      "source": [
        "print(x_test)"
      ],
      "metadata": {
        "colab": {
          "base_uri": "https://localhost:8080/"
        },
        "id": "Dwo_3LsxvQIY",
        "outputId": "e8676b66-6468-4f3d-a5d2-ca3f31c2378d"
      },
      "execution_count": null,
      "outputs": [
        {
          "output_type": "stream",
          "name": "stdout",
          "text": [
            "[[-1.54800845 -0.67174074]\n",
            " [-0.78926628 -0.89590903]\n",
            " [-0.28343817 -0.97076396]\n",
            " [ 1.17081766 -0.71393115]\n",
            " [ 1.10758914 -1.19322429]\n",
            " [ 1.73987429  1.00962306]\n",
            " [-0.4098952   0.07568512]\n",
            " [-1.16863736  0.16538293]\n",
            " [-0.78926628 -0.46231368]\n",
            " [-0.59958074 -1.09039662]\n",
            " [ 0.475304    2.38512678]\n",
            " [ 1.48696023 -0.50047312]\n",
            " [ 0.09593292  0.51126799]\n",
            " [-1.86415102  0.90656665]\n",
            " [ 0.66498955 -0.64251245]\n",
            " [-1.04218034 -0.78907581]\n",
            " [-0.28343817 -0.78555317]\n",
            " [ 0.85467509 -0.30524339]\n",
            " [-1.29509439 -0.98344141]\n",
            " [-1.04218034 -0.44235712]\n",
            " [-0.72603777 -0.05769247]\n",
            " [-2.18029359 -0.96097375]\n",
            " [-0.53635222  0.95844051]\n",
            " [-0.66280925 -0.62281513]\n",
            " [-0.91572331 -0.48925454]\n",
            " [-1.16863736 -0.6843267 ]\n",
            " [-0.85249479  1.36712319]\n",
            " [ 0.98113212  0.16969347]\n",
            " [ 0.9179036  -1.18514203]]\n"
          ]
        }
      ]
    },
    {
      "cell_type": "code",
      "source": [
        "print(y_train)"
      ],
      "metadata": {
        "colab": {
          "base_uri": "https://localhost:8080/"
        },
        "id": "i5W7wuusvTAt",
        "outputId": "dcddd6f4-c69a-4a35-ede5-7f5a1488faa0"
      },
      "execution_count": null,
      "outputs": [
        {
          "output_type": "stream",
          "name": "stdout",
          "text": [
            "[2 1 1 1 1 1 2 2 2 2 2 2 2 1 1 1 2 2 2 2 1 1 2 1 1 1 1 1 2 1 1 1 2 2 2 1 1\n",
            " 1 2 1 1 1 2 2 2 2 1 2 1 2 1 1 1 2 2 2 2 2 2 1 2 2 2 1 1 2 2 1 2 1 2 2 1 2\n",
            " 2 2 2 1 1 2 1 2 2 2 2 1 1]\n"
          ]
        }
      ]
    },
    {
      "cell_type": "code",
      "source": [
        "print(y_test)"
      ],
      "metadata": {
        "colab": {
          "base_uri": "https://localhost:8080/"
        },
        "id": "-xdFrYo3vW_Z",
        "outputId": "2da0765f-1334-4e44-97b2-d7515be6d340"
      },
      "execution_count": null,
      "outputs": [
        {
          "output_type": "stream",
          "name": "stdout",
          "text": [
            "[1 2 2 1 1 2 2 2 2 2 1 1 2 1 1 2 1 2 2 2 1 1 1 2 2 2 2 2 1]\n"
          ]
        }
      ]
    },
    {
      "cell_type": "code",
      "source": [
        "from sklearn.neighbors import KNeighborsClassifier\n",
        "classifier = KNeighborsClassifier(n_neighbors=5, metric='minkowski', p=2)\n",
        "classifier.fit(x_train, y_train)"
      ],
      "metadata": {
        "colab": {
          "base_uri": "https://localhost:8080/",
          "height": 74
        },
        "id": "TzFAzpMkvbJo",
        "outputId": "17ef1fe7-5d8a-47ea-f5b0-29854f2af895"
      },
      "execution_count": null,
      "outputs": [
        {
          "output_type": "execute_result",
          "data": {
            "text/plain": [
              "KNeighborsClassifier()"
            ],
            "text/html": [
              "<style>#sk-container-id-1 {color: black;background-color: white;}#sk-container-id-1 pre{padding: 0;}#sk-container-id-1 div.sk-toggleable {background-color: white;}#sk-container-id-1 label.sk-toggleable__label {cursor: pointer;display: block;width: 100%;margin-bottom: 0;padding: 0.3em;box-sizing: border-box;text-align: center;}#sk-container-id-1 label.sk-toggleable__label-arrow:before {content: \"▸\";float: left;margin-right: 0.25em;color: #696969;}#sk-container-id-1 label.sk-toggleable__label-arrow:hover:before {color: black;}#sk-container-id-1 div.sk-estimator:hover label.sk-toggleable__label-arrow:before {color: black;}#sk-container-id-1 div.sk-toggleable__content {max-height: 0;max-width: 0;overflow: hidden;text-align: left;background-color: #f0f8ff;}#sk-container-id-1 div.sk-toggleable__content pre {margin: 0.2em;color: black;border-radius: 0.25em;background-color: #f0f8ff;}#sk-container-id-1 input.sk-toggleable__control:checked~div.sk-toggleable__content {max-height: 200px;max-width: 100%;overflow: auto;}#sk-container-id-1 input.sk-toggleable__control:checked~label.sk-toggleable__label-arrow:before {content: \"▾\";}#sk-container-id-1 div.sk-estimator input.sk-toggleable__control:checked~label.sk-toggleable__label {background-color: #d4ebff;}#sk-container-id-1 div.sk-label input.sk-toggleable__control:checked~label.sk-toggleable__label {background-color: #d4ebff;}#sk-container-id-1 input.sk-hidden--visually {border: 0;clip: rect(1px 1px 1px 1px);clip: rect(1px, 1px, 1px, 1px);height: 1px;margin: -1px;overflow: hidden;padding: 0;position: absolute;width: 1px;}#sk-container-id-1 div.sk-estimator {font-family: monospace;background-color: #f0f8ff;border: 1px dotted black;border-radius: 0.25em;box-sizing: border-box;margin-bottom: 0.5em;}#sk-container-id-1 div.sk-estimator:hover {background-color: #d4ebff;}#sk-container-id-1 div.sk-parallel-item::after {content: \"\";width: 100%;border-bottom: 1px solid gray;flex-grow: 1;}#sk-container-id-1 div.sk-label:hover label.sk-toggleable__label {background-color: #d4ebff;}#sk-container-id-1 div.sk-serial::before {content: \"\";position: absolute;border-left: 1px solid gray;box-sizing: border-box;top: 0;bottom: 0;left: 50%;z-index: 0;}#sk-container-id-1 div.sk-serial {display: flex;flex-direction: column;align-items: center;background-color: white;padding-right: 0.2em;padding-left: 0.2em;position: relative;}#sk-container-id-1 div.sk-item {position: relative;z-index: 1;}#sk-container-id-1 div.sk-parallel {display: flex;align-items: stretch;justify-content: center;background-color: white;position: relative;}#sk-container-id-1 div.sk-item::before, #sk-container-id-1 div.sk-parallel-item::before {content: \"\";position: absolute;border-left: 1px solid gray;box-sizing: border-box;top: 0;bottom: 0;left: 50%;z-index: -1;}#sk-container-id-1 div.sk-parallel-item {display: flex;flex-direction: column;z-index: 1;position: relative;background-color: white;}#sk-container-id-1 div.sk-parallel-item:first-child::after {align-self: flex-end;width: 50%;}#sk-container-id-1 div.sk-parallel-item:last-child::after {align-self: flex-start;width: 50%;}#sk-container-id-1 div.sk-parallel-item:only-child::after {width: 0;}#sk-container-id-1 div.sk-dashed-wrapped {border: 1px dashed gray;margin: 0 0.4em 0.5em 0.4em;box-sizing: border-box;padding-bottom: 0.4em;background-color: white;}#sk-container-id-1 div.sk-label label {font-family: monospace;font-weight: bold;display: inline-block;line-height: 1.2em;}#sk-container-id-1 div.sk-label-container {text-align: center;}#sk-container-id-1 div.sk-container {/* jupyter's `normalize.less` sets `[hidden] { display: none; }` but bootstrap.min.css set `[hidden] { display: none !important; }` so we also need the `!important` here to be able to override the default hidden behavior on the sphinx rendered scikit-learn.org. See: https://github.com/scikit-learn/scikit-learn/issues/21755 */display: inline-block !important;position: relative;}#sk-container-id-1 div.sk-text-repr-fallback {display: none;}</style><div id=\"sk-container-id-1\" class=\"sk-top-container\"><div class=\"sk-text-repr-fallback\"><pre>KNeighborsClassifier()</pre><b>In a Jupyter environment, please rerun this cell to show the HTML representation or trust the notebook. <br />On GitHub, the HTML representation is unable to render, please try loading this page with nbviewer.org.</b></div><div class=\"sk-container\" hidden><div class=\"sk-item\"><div class=\"sk-estimator sk-toggleable\"><input class=\"sk-toggleable__control sk-hidden--visually\" id=\"sk-estimator-id-1\" type=\"checkbox\" checked><label for=\"sk-estimator-id-1\" class=\"sk-toggleable__label sk-toggleable__label-arrow\">KNeighborsClassifier</label><div class=\"sk-toggleable__content\"><pre>KNeighborsClassifier()</pre></div></div></div></div></div>"
            ]
          },
          "metadata": {},
          "execution_count": 19
        }
      ]
    },
    {
      "cell_type": "code",
      "source": [
        "y_pred = classifier.predict(x_test)"
      ],
      "metadata": {
        "id": "k0R8NOBbvelw"
      },
      "execution_count": null,
      "outputs": []
    },
    {
      "cell_type": "code",
      "source": [
        "from sklearn.metrics import confusion_matrix\n",
        "cm = confusion_matrix(y_test, y_pred)\n",
        "\n",
        "print(cm)"
      ],
      "metadata": {
        "colab": {
          "base_uri": "https://localhost:8080/"
        },
        "id": "9ZRIuyuTviIR",
        "outputId": "5de74b4a-ae70-4799-a7cf-eef1aded1dd6"
      },
      "execution_count": null,
      "outputs": [
        {
          "output_type": "stream",
          "name": "stdout",
          "text": [
            "[[ 9  3]\n",
            " [ 3 14]]\n"
          ]
        }
      ]
    },
    {
      "cell_type": "code",
      "source": [
        "from sklearn.metrics import classification_report\n",
        "akurasi = classification_report(y_test, y_pred)\n",
        "\n",
        "print(akurasi)"
      ],
      "metadata": {
        "colab": {
          "base_uri": "https://localhost:8080/"
        },
        "id": "STKjvGeBvnez",
        "outputId": "ce03b849-a204-46e2-fd47-17f0836988f4"
      },
      "execution_count": null,
      "outputs": [
        {
          "output_type": "stream",
          "name": "stdout",
          "text": [
            "              precision    recall  f1-score   support\n",
            "\n",
            "           1       0.75      0.75      0.75        12\n",
            "           2       0.82      0.82      0.82        17\n",
            "\n",
            "    accuracy                           0.79        29\n",
            "   macro avg       0.79      0.79      0.79        29\n",
            "weighted avg       0.79      0.79      0.79        29\n",
            "\n"
          ]
        }
      ]
    },
    {
      "cell_type": "code",
      "source": [
        "from sklearn.metrics import accuracy_score\n",
        "akurasi = accuracy_score(y_test, y_pred)\n",
        "\n",
        "print(\"Tingkat akurasi :%d persen\"%(akurasi*100))"
      ],
      "metadata": {
        "colab": {
          "base_uri": "https://localhost:8080/"
        },
        "id": "hWs3_z09vrqh",
        "outputId": "3e79e410-c71a-4c67-fdac-1c2ca0e64bae"
      },
      "execution_count": null,
      "outputs": [
        {
          "output_type": "stream",
          "name": "stdout",
          "text": [
            "Tingkat akurasi :79 persen\n"
          ]
        }
      ]
    },
    {
      "cell_type": "code",
      "source": [
        "from matplotlib.colors import ListedColormap\n",
        "x_set, y_set = x_train, y_train\n",
        "x1, x2 = np.meshgrid(np.arange(start = x_set[:, 0].min()-1, stop = x_set[:, 0].max()+1, step=0.01),\n",
        "                     np.arange(start = x_set[:, 1].min()-1, stop = x_set[:, 0].max()+1, step=0.01))\n",
        "plt.contourf(x1, x2, classifier.predict(np.array([x1.ravel(), x2.ravel()]).T).reshape(x1.shape), alpha =0.75, cmap = ListedColormap (('red', 'green')))\n",
        "plt.xlim(x1.min(), x1.max())\n",
        "plt.ylim(x2.min(), x2.max())\n",
        "for i, j in enumerate (np.unique(y_set)):\n",
        "  plt.scatter(x_set[y_set == j, 0], x_set[y_set == j, 1], c = ListedColormap(('red', 'green'))(i), label = j)\n",
        "  plt.title('Klasifikasi Data dengan K-Nearest Neighbors')\n",
        "  plt.xlabel('Age')\n",
        "  plt.ylabel('Leptin')\n",
        "  plt.legend()\n",
        "  plt.show()"
      ],
      "metadata": {
        "colab": {
          "base_uri": "https://localhost:8080/",
          "height": 983
        },
        "id": "4AIOAzYlvu-y",
        "outputId": "4ca71a08-12af-41fd-9ed9-d288e1b28b56"
      },
      "execution_count": null,
      "outputs": [
        {
          "output_type": "stream",
          "name": "stderr",
          "text": [
            "<ipython-input-25-ad74b81a1f4a>:9: UserWarning: *c* argument looks like a single numeric RGB or RGBA sequence, which should be avoided as value-mapping will have precedence in case its length matches with *x* & *y*.  Please use the *color* keyword-argument or provide a 2D array with a single row if you intend to specify the same RGB or RGBA value for all points.\n",
            "  plt.scatter(x_set[y_set == j, 0], x_set[y_set == j, 1], c = ListedColormap(('red', 'green'))(i), label = j)\n"
          ]
        },
        {
          "output_type": "display_data",
          "data": {
            "text/plain": [
              "<Figure size 640x480 with 1 Axes>"
            ],
            "image/png": "[encoded data removed]"
          },
          "metadata": {}
        },
        {
          "output_type": "display_data",
          "data": {
            "text/plain": [
              "<Figure size 640x480 with 1 Axes>"
            ],
            "image/png": "[encoded data removed]"
          },
          "metadata": {}
        }
      ]
    },
    {
      "cell_type": "code",
      "source": [],
      "metadata": {
        "id": "cjGERYwcwBON"
      },
      "execution_count": null,
      "outputs": []
    }
  ]
}